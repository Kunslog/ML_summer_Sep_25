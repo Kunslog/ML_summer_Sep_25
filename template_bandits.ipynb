{
  "nbformat": 4,
  "nbformat_minor": 0,
  "metadata": {
    "colab": {
      "provenance": [],
      "include_colab_link": true
    },
    "kernelspec": {
      "name": "python3",
      "display_name": "Python 3"
    },
    "language_info": {
      "name": "python"
    }
  },
  "cells": [
    {
      "cell_type": "markdown",
      "metadata": {
        "id": "view-in-github",
        "colab_type": "text"
      },
      "source": [
        "<a href=\"https://colab.research.google.com/github/Kunslog/ML_summer_Sep_25/blob/main/template_bandits.ipynb\" target=\"_parent\"><img src=\"https://colab.research.google.com/assets/colab-badge.svg\" alt=\"Open In Colab\"/></a>"
      ]
    },
    {
      "cell_type": "markdown",
      "source": [
        "# #3 Multiarmed bandits\n",
        "\n",
        "**Oxford University Economics Summer School 2025, Foundations of Machine Learning**\n",
        "\n",
        "*Johanna Barop, 2025*\n"
      ],
      "metadata": {
        "id": "UWmmBysy1Zme"
      }
    },
    {
      "cell_type": "markdown",
      "source": [
        "This is a *Google Colab document*. Think of Google Colab as \"Google Docs for Jupyter\" ✨. It's basically a *Jupyter Notebook* (which allows you to combine markdown text cells and code cells) integrated into your *Google Drive*.\n",
        "\n",
        "We will use Google Colab for all tutorials, so you can code directly in your browser without installing any software or Python packages, and make use of Colab's free GPUs."
      ],
      "metadata": {
        "id": "SoFFBu7ACDUS"
      }
    },
    {
      "cell_type": "markdown",
      "source": [
        "## **Question 1:** Thompson sampling for the Bernoulli bandit problem\n",
        "\n",
        "### Bernoulli bandit problem\n",
        "Consider a **Bernoulli bandit problem** with $k$ treatments $D_t \\in \\{1, \\ldots, k\\}$, time-invariant treatment effects $\\theta = (\\theta^1, \\ldots, \\theta^k) \\sim U([0, 1]^k)$, binary outcomes $Y_t = Y^{D_t} \\in \\{0, 1 \\}$ and potential outcomes $Y_t^d \\sim Ber(\\theta^d)$. Let treatment be assigned by *Thompson sampling* with a uniform prior $\\hat\\theta_1 = (\\hat\\theta_1^1, \\ldots, \\hat\\theta_1^k) \\sim U([0, 1]^k)$.\n",
        "\n",
        "### Thompson sampling\n",
        "**Thompson sampling** is a stochastic algorithm for identifying the optimal treatment $d^*$. Intuitively the algorithm assigns treatment $d$ with the probability that $d$ is optimal. It achieves exploration by playing the treatment arm with the highest sampled mean $\\hat\\theta^d_t$. Notably the assignment probability depends only on the sampled mean, not on the number of times an arm has been played previously. Given the history $(D_1, \\ldots, D_{t-1}, Y_1, \\ldots, Y_{t-1})$, Thompson sampling assigns the treatment with the largest probability of success $\\hat\\theta_t^d$: $$\n",
        "D_{t} = \\text{argmax}_d \\; \\hat\\theta_{t}^d\n",
        "$$ It then records treatment $D_t$ and outcome $Y_t$ and updates $\\hat\\theta_{t+1}$ by drawing from the posterior distribution. In the binomial case with uniform priors, the posterior follows a *beta distribution*. $$\n",
        "\\begin{aligned}\n",
        "\\hat\\theta^d_{t+1} &\\sim Beta(\\alpha_{t+1}^d, \\beta_{t+1}^d) \\; \\text{ with} \\\\\n",
        "\\alpha_{t+1}^d &= 1 + T^d_{t+1} \\cdot \\overline Y^d_{t+1} \\\\\n",
        "\\beta_{t+1}^d &= 1 + T^d_{t+1} \\cdot (1 - \\overline Y^d_{t+1}) \\; \\text{ where}\n",
        "\\end{aligned}\n",
        "$$ $$\n",
        "\\\\T^d_{t+1} = \\sum_{1\\leq s \\leq t} 1\\{D_s = d\\} \\; \\text{and} \\; \\overline Y^d_{t+1} = \\frac{1}{T_{t+1}^d}\\sum_{1\\leq s \\leq t} 1\\{D_s = d\\} \\cdot Y_s\n",
        "$$ $T^d_{t+1}$ is the number of times treatment $d$ was assigned until $t$ and $\\overline Y^d_{t+1}$ is the average outcome for treatment $d$ up until time $t$. Thus you can think of $T^d_{t+1} \\cdot \\overline Y^d_{t+1}$ as the number of past successes for a given treatment $d$, and of $T^d_{t+1} \\cdot (1 - \\overline Y^d_{t+1})$ as the number of pastfailures for that treatment.\n",
        "\n",
        "Thompson sampling initially assumes $\\hat\\theta^d \\sim Beta(1, 1)$ for treatment arm $d$, which is natural because $Beta(1,1)$ reduces to the uniform distribution on $[0, 1]$. The higher $\\alpha_t$ and $\\beta_t$, the tighter the concentration of the posterior around the mean. Thus as arm $d$ is played more often, the beta distribution becomes more concentrated around the empirical mean. For a trial resulting in a success, $\\alpha_{t+1}$ increases; for a failure, $\\beta_{t+1}$ increases. Updating $\\alpha$ and $\\beta$ therefore increases the confidence in our treatment effect estimates.\n",
        "\n",
        "### Relation to shrinkage and regularization\n",
        "Recall that the mean of the beta distribution is $$\n",
        "E[\\hat\\theta_{t+1}] = \\frac{\\alpha_{t+1}}{\\alpha_{t+1} + \\beta_{t+1}} = \\frac{1+ T_{t+1} \\cdot \\overline Y_{t+1}}{2+ T_{t+1}} = \\frac{1+ \\sum_{1\\leq s \\leq t+1} 1\\{D_s = 1\\} \\cdot Y_s^d}{2+ \\sum_{1\\leq s \\leq t+1} 1\\{D_s = 1\\}}\n",
        "$$ which is a *linear shrinkage estimator* of the treatment effect.\n",
        "\n",
        "Compared to the mean of historically observed outcomes $\\frac{\\sum_{1\\leq s \\leq t+1} 1\\{D_s = 1\\} \\cdot Y_s^d}{\\sum_{1\\leq s \\leq t+1} 1\\{D_s = 1\\}}$, drawing from the beta distribution performs regularization, which improves predictive performance."
      ],
      "metadata": {
        "id": "9M8S2xRHoMbT"
      }
    },
    {
      "cell_type": "markdown",
      "source": [
        "α is past success.\n",
        "β is past failure.\n"
      ],
      "metadata": {
        "id": "IYRSe-obb1MQ"
      }
    },
    {
      "cell_type": "markdown",
      "source": [
        "### Setup"
      ],
      "metadata": {
        "id": "WHqvBTWKLod8"
      }
    },
    {
      "cell_type": "code",
      "execution_count": 1,
      "metadata": {
        "tags": [],
        "id": "3ba6a62a-fd02-462b-8733-bd54de091487"
      },
      "outputs": [],
      "source": [
        "# Import packages.\n",
        "import numpy as np\n",
        "from scipy.stats import beta      # to plot beta distributions\n",
        "import matplotlib.pyplot as plt\n",
        "\n",
        "# Set default plot style to look like R's ggplot.\n",
        "plt.style.use('ggplot')\n",
        "\n",
        "# Set the seed.\n",
        "np.random.seed(12345)"
      ]
    },
    {
      "cell_type": "markdown",
      "source": [
        "### The Beta distribution"
      ],
      "metadata": {
        "id": "Ugm8yk7GCnOn"
      }
    },
    {
      "cell_type": "markdown",
      "source": [
        "Note how larger $\\alpha$ and $\\beta$ condense the beta distribution around its mean. As we repeatedly draw one treatment arm, we get more confident in our estimate of $\\theta^d$ (no matter whether it results in a success or a failure). This is reflected in updating and increasing $\\alpha$ and $\\beta$."
      ],
      "metadata": {
        "id": "yWuRulAgGHlA"
      }
    },
    {
      "cell_type": "code",
      "source": [
        "# @title The beta distribution and its parameters\n",
        "\n",
        "# Define a function to plot the Beta distribution\n",
        "def plot_beta_distribution(a, b, ax):\n",
        "    # Create a range of values between 0 and 1.\n",
        "    x = np.linspace(0, 1, 100)\n",
        "    # Compute the Beta distribution for the given alpha and beta.\n",
        "    y = beta.pdf(x, a, b)\n",
        "    # Plot the distribution\n",
        "    ax.plot(x, y, label=f'α={a}, β={b}')\n",
        "    ax.fill_between(x, y, alpha=0.2)\n",
        "    ax.set_title(f'Beta Distribution (α={a}, β={b})')\n",
        "    ax.set_xlabel('x')\n",
        "    ax.set_ylabel('Density')\n",
        "    ax.legend()\n",
        "\n",
        "# List of alpha and beta parameters to plot.\n",
        "parameters = [(0.5, 0.5), (1, 1), (2, 5), (5, 2), (2, 2)]\n",
        "\n",
        "# Create subplots for visualizing different alpha and beta values.\n",
        "fig, axes = plt.subplots(nrows=2, ncols=3, figsize=(15, 10))\n",
        "axes = axes.flatten()\n",
        "\n",
        "# Generate plots for each combination of alpha and beta.\n",
        "for i, (a, b) in enumerate(parameters):\n",
        "    plot_beta_distribution(a, b, axes[i])\n",
        "\n",
        "# Remove the empty subplot.\n",
        "fig.delaxes(axes[-1])\n",
        "\n",
        "# Adjust layout.\n",
        "plt.tight_layout()\n",
        "plt.show()"
      ],
      "metadata": {
        "colab": {
          "base_uri": "https://localhost:8080/",
          "height": 975
        },
        "id": "wtBxBb4ZClwI",
        "outputId": "519dc9d3-aa47-4374-8adc-beb8ffcef196"
      },
      "execution_count": null,
      "outputs": [
        {
          "output_type": "display_data",
          "data": {
            "text/plain": [
              "<Figure size 1500x1000 with 5 Axes>"
            ],
            "image/png": "[encoded data removed]"
          },
          "metadata": {}
        }
      ]
    },
    {
      "cell_type": "markdown",
      "source": [
        "### 1) a)"
      ],
      "metadata": {
        "id": "AHZ8HldhoTw2"
      }
    },
    {
      "cell_type": "markdown",
      "source": [
        "Set up a function which accepts a sample size T and a $k$-vector $(\\theta^1, ... , \\theta^k)$ as\n",
        "its arguments, and returns a history $(D_t, Y_t)_{t=1}^T$ generated based on the Bernoulli\n",
        "bandit model and Thompson sampling."
      ],
      "metadata": {
        "id": "_7_L0z0FN1fZ"
      }
    },
    {
      "cell_type": "markdown",
      "source": [
        "#### Mini example TS 1\n",
        "\n",
        "To start, consider a minimal example with $k=3$ treatments. Suppose the algorithm has been running for a bit. We will compute the next step recommend by the Thompson sampling algorithm.\n",
        "\n",
        "Below, I defined the vectors `treatments` and `outcomes` that contain a history of the algorithm's past treatment decisions $D_t$ and their outcomes $Y_t$ (failures `0` and successes `1`). Compute $\\alpha_{t+1}$ and $\\beta_{t+1}$ based on them, and draw from the posterior distribution to update the vector of your treatment effect estimates $\\theta$. Select the next treatment as the maximum of that vector. The use the binomial distribution to predict the outcome of that treatment, using the true `theta`.  "
      ],
      "metadata": {
        "id": "OjLVP-5ZDZ5f"
      }
    },
    {
      "cell_type": "code",
      "source": [
        "\"\"\"Mini example TS 1\"\"\"\n",
        "k = 3\n",
        "theta      = np.array([.6, .4, .2]) # the true treatment effects. They don't have to add up to 1!\n",
        "treatments = np.array([0, 1, 0, 1, 2, 0, 2])\n",
        "outcomes   = np.array([1, 0, 1, 1, 0, 1, 0])\n",
        "\n",
        "# Stop here and think:\n",
        "  # What is the optimal treatment?\n",
        "  # Based on past successes and failures, would Thompson sampling pick option 0, 1, or 2 next?\n",
        "\n",
        "# Compute the number of successes and failures for each treatment.\n",
        "treatment_1 = (treatments == 0).sum()\n",
        "treatment_2 = (treatments == 1).sum()\n",
        "treatment_3 = (treatments == 2).sum()\n",
        "\n",
        "display(treatment_1)\n",
        "display(treatment_2)\n",
        "display(treatment_3)\n",
        "\n",
        "# Compute alpha and beta.\n",
        "average_treatment_1 = outcomes[treatments == 0].mean()\n",
        "average_treatment_2 = outcomes[treatments == 1].mean()\n",
        "average_treatment_3 = outcomes[treatments == 2].mean()\n",
        "\n",
        "display(average_treatment_1)\n",
        "display(average_treatment_2)\n",
        "display(average_treatment_3)\n",
        "\n",
        "alpha_1 = 1 + treatment_1 * average_treatment_1\n",
        "beta_1  = 1 + treatment_1 * (1 - average_treatment_1)\n",
        "\n",
        "alpha_2 = 1 + treatment_2 * average_treatment_2\n",
        "beta_2  = 1 + treatment_2 * (1 - average_treatment_2)\n",
        "\n",
        "alpha_3 = 1 + treatment_3 * average_treatment_3\n",
        "beta_3  = 1 + treatment_3 * (1 - average_treatment_3)\n",
        "\n",
        "alpha = [alpha_1, alpha_2, alpha_3]\n",
        "beta  = [beta_1, beta_2, beta_3]\n",
        "\n",
        "# Draw from the posterior distribution np.random.beta() to update treatment effect estimates.\n",
        "beta_post = np.random.beta(alpha, beta)\n",
        "print(beta_post)\n",
        "# How similar is your posterior to your prior?\n",
        "\n",
        "# Select the next treatment as the one with the highest probability of success.\n",
        "\n",
        "# Predict the outcome of that treatment using np.random.binomial().\n",
        "\n",
        "# ---------------------------------------------------------------------------\n",
        "# Compute the number of successes and failures for each treatment.\n",
        "successes = np.array([np.sum(    outcomes[np.equal(treatments, d)]) for d in range(k)])\n",
        "failures  = np.array([np.sum(1 - outcomes[np.equal(treatments, d)]) for d in range(k)])\n",
        "\n",
        "# Compute alpha and beta.\n",
        "alpha = 1 + successes\n",
        "beta  = 1 + failures\n",
        "\n",
        "# Draw from the posterior distribution np.random.beta() to update treatment effect estimates.\n",
        "posterior_draw = np.random.beta(alpha, beta)\n",
        "print(f\"posterior: {posterior_draw}\")\n",
        "\n",
        "# How similar is your posterior to your prior?\n",
        "\n",
        "# Select the next treatment as the one with the highest probability of success.\n",
        "next_treat = np.argmax(posterior_draw)\n",
        "print(f\"next arm: {next_treat}\")\n",
        "print(f\"optimal arm?: {next_treat == np.argmax(theta)}\")\n",
        "\n",
        "# Predict the outcome of that treatment using np.random.binomial().\n",
        "next_outcome = np.random.binomial(1, theta[next_treat])\n",
        "print(f\"next outcome: {next_outcome}\")\n",
        "\n",
        "# ---------------------------------------------------------------------------\n",
        "\n"
      ],
      "metadata": {
        "id": "SiBKUY09E8XN",
        "colab": {
          "base_uri": "https://localhost:8080/",
          "height": 212
        },
        "outputId": "18071267-5a28-410a-a264-c3ed0e00961c"
      },
      "execution_count": 16,
      "outputs": [
        {
          "output_type": "display_data",
          "data": {
            "text/plain": [
              "np.int64(3)"
            ]
          },
          "metadata": {}
        },
        {
          "output_type": "display_data",
          "data": {
            "text/plain": [
              "np.int64(2)"
            ]
          },
          "metadata": {}
        },
        {
          "output_type": "display_data",
          "data": {
            "text/plain": [
              "np.int64(2)"
            ]
          },
          "metadata": {}
        },
        {
          "output_type": "display_data",
          "data": {
            "text/plain": [
              "np.float64(1.0)"
            ]
          },
          "metadata": {}
        },
        {
          "output_type": "display_data",
          "data": {
            "text/plain": [
              "np.float64(0.5)"
            ]
          },
          "metadata": {}
        },
        {
          "output_type": "display_data",
          "data": {
            "text/plain": [
              "np.float64(0.0)"
            ]
          },
          "metadata": {}
        },
        {
          "output_type": "stream",
          "name": "stdout",
          "text": [
            "[0.74319289 0.13928172 0.10254729]\n",
            "posterior: [0.64872055 0.58995819 0.01644079]\n",
            "next arm: 0\n",
            "optimal arm?: True\n",
            "next outcome: 1\n"
          ]
        }
      ]
    },
    {
      "cell_type": "markdown",
      "source": [
        "Now define the function `thompson(outcomes, treatments, k)` based on the example above. It should select the next-period treatment based on a history of past outcomes."
      ],
      "metadata": {
        "id": "uCpY3cSsrHAI"
      }
    },
    {
      "cell_type": "code",
      "source": [
        "# Define thompson(outcomes, treatments, k).\n",
        "\n",
        "def thompson(outcomes, treatments, k):\n",
        "    '''Given a vector of binary outcomes and discrete treatments,\n",
        "        Thompson sampling selects the next treatment.'''\n",
        "\n",
        "    successes = np.array([np.sum(    outcomes[np.equal(treatments, d)]) for d in range(k)]) # count the successes for each d\n",
        "    failures  = np.array([np.sum(1 - outcomes[np.equal(treatments, d)]) for d in range(k)])\n",
        "\n",
        "    posterior_draw = np.random.beta(1 + successes, 1 + failures)\n",
        "\n",
        "    return np.argmax(posterior_draw) # Select the next treatment as the one with the highest probability of success.\n",
        "\n",
        "# Check if it works on mini example 1. Does it return the correct next-period treatment?\n",
        "thompson(outcomes, treatments, k)\n"
      ],
      "metadata": {
        "id": "TP1BnAP5rlJf",
        "colab": {
          "base_uri": "https://localhost:8080/"
        },
        "outputId": "178c897f-20f0-4923-aa6d-2371373617ad"
      },
      "execution_count": 18,
      "outputs": [
        {
          "output_type": "execute_result",
          "data": {
            "text/plain": [
              "np.int64(0)"
            ]
          },
          "metadata": {},
          "execution_count": 18
        }
      ]
    },
    {
      "cell_type": "code",
      "source": [
        "# Check if it works on mini example 1. Does it return the correct next-period treatment?\n"
      ],
      "metadata": {
        "id": "mrr4jGuCSPFz"
      },
      "execution_count": null,
      "outputs": []
    },
    {
      "cell_type": "markdown",
      "source": [
        "#### Mini example TS 2\n",
        "\n",
        "Let's do another mini-Thompson example. For a given `theta` and $T=25$, use `thompson(outcomes, treatments, k)` to compute an array of\n",
        "- the treatment\n",
        "- whether the right treatment is selected\n",
        "- the outcome,\n",
        "- outcomes, and the treatment effect of the treatment chosen\n",
        "for every period.\n",
        "\n",
        "**Hint:** iterate `thompson(outcomes, treatments, k)` $T$ times, and use your code snippet from above that predicts the outcome."
      ],
      "metadata": {
        "id": "XXCsfjJqrsKe"
      }
    },
    {
      "cell_type": "code",
      "source": [
        "\"\"\"Mini example TS 2\"\"\"\n",
        "T = 25\n",
        "theta = np.array([.6, .3, .9, .7, .1, 0])\n",
        "\n",
        "# Define k using len().\n",
        "k = len(theta)\n",
        "\n",
        "# Initialise the history: Create three empty np-arrays of length T for treatments,\n",
        "# whether the optimal arm is selected, and outcomes.\n",
        "treatment = np.empty(T, dtype = np.int8)\n",
        "outcome   = np.empty(T, dtype = np.int8)\n",
        "opt_arm   = np.empty(T, dtype = np.int8)\n",
        "\n",
        "d_star = np.argmax(theta)\n",
        "\n",
        "# Create a for-loop that computes the treatment for each period (using thompson())\n",
        "# and predicts the outcome, filling in the empty treatment and outcome arrays.\n",
        "for t in range(T):\n",
        "    treatment[t] = thompson(outcome[range(t-1)], treatment[range(t-1)], k)\n",
        "    opt_arm[t]   = treatment[t] == d_star\n",
        "    outcome[t]   = np.random.binomial(1, theta[treatment[t]])\n",
        "print(f\"treatment   : {treatment}\")\n",
        "print(f\"outcome     : {outcome}\")\n",
        "print(f\"optimal arm?: {opt_arm}\")\n",
        "\n",
        "# Create an array of the true treatment effect for each period.\n",
        "true_th = theta[treatment]\n",
        "print(f\"true_th     : {true_th}\")\n",
        "\n",
        "# Double-check if your code works for the first period where we start with alpha = beta = 1!\n",
        "# Does Thompson sampling converge on the optimal treatment in 25 periods?\n",
        "\n",
        "# Define simulate_thompson_path(theta, T).\n",
        "def simulate_thompson_path(theta, T):\n",
        "    '''Given a vector of expected potential outcomes,\n",
        "        simulate a path of outcomes and treatments according to Thompson sampling.'''\n",
        "\n",
        "    # Initialise the history.\n",
        "    k = len(theta)\n",
        "    d_star = np.argmax(theta)\n",
        "\n",
        "    treatment = np.empty(T, dtype = np.int8)\n",
        "    outcome   = np.empty(T, dtype = np.int8)\n",
        "    opt_arm   = np.empty(T, dtype = np.int8)\n",
        "\n",
        "    # for each period:\n",
        "    for t in range(T):\n",
        "        treatment[t] = thompson(outcome[range(t-1)], treatment[range(t-1)], k) # identify the treatment using thompson()\n",
        "        outcome[t]   = np.random.binomial(1, theta[treatment[t]]) # record its outcome using binomial sampling\n",
        "        opt_arm[t]   = treatment[t] == d_star\n",
        "\n",
        "    return np.array([treatment, outcome, opt_arm, theta[treatment]]) # the history.\n",
        "\n",
        "# Check if it works on mini example 2.\n",
        "# (Note that it will return a different history because we draw from the binomial\n",
        "# distribution, but the structure of the arrays should be the same.)\n",
        "simulate_thompson_path(theta, T)"
      ],
      "metadata": {
        "id": "2KUYyFDxxhAt",
        "colab": {
          "base_uri": "https://localhost:8080/"
        },
        "outputId": "0b235551-40be-4ffc-fe3d-d758aa6f7a73"
      },
      "execution_count": 27,
      "outputs": [
        {
          "output_type": "stream",
          "name": "stdout",
          "text": [
            "treatment   : [0 0 3 0 0 1 1 3 1 3 2 3 4 5 3 3 2 2 3 1 3 3 0 3 3]\n",
            "outcome     : [1 1 1 0 0 1 0 1 1 1 1 1 0 0 0 1 1 1 1 0 1 0 0 1 1]\n",
            "optimal arm?: [0 0 0 0 0 0 0 0 0 0 1 0 0 0 0 0 1 1 0 0 0 0 0 0 0]\n",
            "true_th     : [0.6 0.6 0.7 0.6 0.6 0.3 0.3 0.7 0.3 0.7 0.9 0.7 0.1 0.  0.7 0.7 0.9 0.9\n",
            " 0.7 0.3 0.7 0.7 0.6 0.7 0.7]\n"
          ]
        },
        {
          "output_type": "execute_result",
          "data": {
            "text/plain": [
              "array([[3. , 4. , 1. , 5. , 0. , 1. , 1. , 2. , 4. , 3. , 2. , 2. , 3. ,\n",
              "        2. , 3. , 2. , 0. , 2. , 3. , 2. , 2. , 3. , 2. , 3. , 3. ],\n",
              "       [1. , 0. , 1. , 0. , 0. , 0. , 0. , 1. , 0. , 1. , 1. , 1. , 1. ,\n",
              "        1. , 1. , 1. , 1. , 1. , 1. , 1. , 1. , 1. , 1. , 1. , 1. ],\n",
              "       [0. , 0. , 0. , 0. , 0. , 0. , 0. , 1. , 0. , 0. , 1. , 1. , 0. ,\n",
              "        1. , 0. , 1. , 0. , 1. , 0. , 1. , 1. , 0. , 1. , 0. , 0. ],\n",
              "       [0.7, 0.1, 0.3, 0. , 0.6, 0.3, 0.3, 0.9, 0.1, 0.7, 0.9, 0.9, 0.7,\n",
              "        0.9, 0.7, 0.9, 0.6, 0.9, 0.7, 0.9, 0.9, 0.7, 0.9, 0.7, 0.7]])"
            ]
          },
          "metadata": {},
          "execution_count": 27
        }
      ]
    },
    {
      "cell_type": "markdown",
      "source": [
        "Now define the function `simulate_thompson_path(theta, T)` based on the example above. It should return an array of\n",
        "- the treatments,\n",
        "- outcomes,\n",
        "- whether the righ treatment was selected,\n",
        "- and true treatment effects\n",
        "for each treatment chosen on the path.\n",
        "\n",
        "Check if it works on mini example 2."
      ],
      "metadata": {
        "id": "rXgNsysGwp6W"
      }
    },
    {
      "cell_type": "code",
      "execution_count": null,
      "metadata": {
        "tags": [],
        "id": "9f4d953a-f8b9-4d67-acb9-6ce346eac667"
      },
      "outputs": [],
      "source": [
        "# Define simulate_thompson_path(theta, T)."
      ]
    },
    {
      "cell_type": "code",
      "source": [
        "# Check if it works on mini example 2.\n",
        "# (Note that it will return a different history because we draw from the binomial\n",
        "# distribution, but the structure of the arrays should be the same.)"
      ],
      "metadata": {
        "id": "Y4rn9Uc3SV0f"
      },
      "execution_count": null,
      "outputs": []
    },
    {
      "cell_type": "markdown",
      "source": [
        "### 1) b)"
      ],
      "metadata": {
        "id": "LJvEUBJioWK_"
      }
    },
    {
      "cell_type": "markdown",
      "source": [
        "Write a second function which takes the same arguments, plus a number of replications R, and evaluates the first function R times (using parallel computing).\n",
        "This function should return the average (across simulation runs) of\n",
        "* $Y_t$,\n",
        "* $D_t$,\n",
        "* whether the right treatment was selected $1\\{D_t = d^*\\}$\n",
        "* the treatment effect of the treatment chosen $\\theta^{D_t}$\n",
        "\n",
        "for each time period $t$."
      ],
      "metadata": {
        "id": "pMR68n0dOITc"
      }
    },
    {
      "cell_type": "markdown",
      "source": [
        "To solve this, we will iterate `simulate_thompson_path()`. This becomes very computationally expensive for a large number of repetitions, so we will use *parallel computing*.\n",
        "\n",
        "#### Parallel computing and CPUs in Colabs\n",
        "\n",
        "[Core parallelisation](https://en.wikipedia.org/wiki/Parallel_computing) makes use of **all** the CPUs in your laptop, splitting up your computing tasks over them. This works particularly well if the tasks are independent of each other. We call this [*embarrassingly parallel*](https://en.wikipedia.org/wiki/Embarrassingly_parallel) tasks.\n",
        "\n",
        "If you have four CPUs, your code will run (almost) four times as fast! (Not quite four times as fast because typically some workload threads don't parallelise, that's [*Amdahl's law*](https://en.wikipedia.org/wiki/Amdahl%27s_law)).\n",
        "\n",
        "To do core parallelisation in Python, you can use the `multiprocess` package (you will need to `pip install` it). Check out its documentation [here](https://pypi.org/project/multiprocess/) if you're stuck!\n",
        "\n",
        "To check how many core you have to work with, run this code (on your device locally or on Colabs):"
      ],
      "metadata": {
        "id": "zPksRRETLuTp"
      }
    },
    {
      "cell_type": "code",
      "source": [
        "# Install the multiprocess package. It is a fork of the multiprocessing package and cannot be used directly.\n",
        "# We're using it here because it saves us headaches when serialising a function with several inputs.\n",
        "!pip install multiprocess\n",
        "import multiprocess\n",
        "\n",
        "# Count the number of cores.\n",
        "cores = multiprocess.cpu_count()\n",
        "cores"
      ],
      "metadata": {
        "colab": {
          "base_uri": "https://localhost:8080/"
        },
        "id": "_riOCvWpRLtp",
        "outputId": "d16cf56c-3fb7-4152-e826-2297fb3d651f"
      },
      "execution_count": 28,
      "outputs": [
        {
          "output_type": "stream",
          "name": "stdout",
          "text": [
            "Requirement already satisfied: multiprocess in /usr/local/lib/python3.12/dist-packages (0.70.16)\n",
            "Requirement already satisfied: dill>=0.3.8 in /usr/local/lib/python3.12/dist-packages (from multiprocess) (0.3.8)\n"
          ]
        },
        {
          "output_type": "execute_result",
          "data": {
            "text/plain": [
              "2"
            ]
          },
          "metadata": {},
          "execution_count": 28
        }
      ]
    },
    {
      "cell_type": "markdown",
      "source": [
        "Colabs gives you 2 cores. Laptops will normally have 2 or 4 cores, some gaming laptops will have 10+ (because parallel computing is important for video graphics)."
      ],
      "metadata": {
        "id": "F-P-VFw51b3t"
      }
    },
    {
      "cell_type": "markdown",
      "source": [
        "You can also change the CPU that Colabs is running on under runtime → change runtime type. See this [medium article](https://drlee.io/choosing-the-right-colab-runtime-a-guide-for-data-scientists-and-analysts-57ee7b7c9638) for a guide. For the purpose of this problem set, the standard CPU is fine."
      ],
      "metadata": {
        "id": "Xcxi-F2tKqJK"
      }
    },
    {
      "cell_type": "markdown",
      "source": [
        "We will now use parallel computing to simulate multiple repetitions of Thompson sampling.\n",
        "\n",
        "#### Mini example TS 2 (Part 2)\n",
        "\n",
        "Building on mini example 2, repeat `simulate_thompson_path(theta, T)` 1,000 times. Store your results, and compute their means across simulation runs for each $t$.\n",
        "\n",
        "**Hint:** You can combine `multiprocess` and anonymous `lambda`functions like this to speed up parallel tasks:\n"
      ],
      "metadata": {
        "id": "X0BJu9KXRWwC"
      }
    },
    {
      "cell_type": "code",
      "source": [
        "def serialise_me(x, y):\n",
        "  return x + y\n",
        "\n",
        "pool  = multiprocess.Pool()\n",
        "iterations = pool.map(lambda _: serialise_me(3, 4), range(10)) # multiprocess plays well with anonymous lambda functions\n",
        "\n",
        "print(iterations)"
      ],
      "metadata": {
        "colab": {
          "base_uri": "https://localhost:8080/"
        },
        "id": "QWKP8oyO1ctR",
        "outputId": "5587fa43-6c4a-49d9-cab1-034b7d517739"
      },
      "execution_count": 29,
      "outputs": [
        {
          "output_type": "stream",
          "name": "stdout",
          "text": [
            "[7, 7, 7, 7, 7, 7, 7, 7, 7, 7]\n"
          ]
        }
      ]
    },
    {
      "cell_type": "markdown",
      "source": [
        "Now complete the second part of the mini example."
      ],
      "metadata": {
        "id": "76WqQHEB4c39"
      }
    },
    {
      "cell_type": "code",
      "source": [
        "\"\"\"Mini example 2 - Part 2\"\"\"\n",
        "T = 25\n",
        "theta = np.array([.6, .3, .9, .7, .1, 0])\n",
        "reps = 1000\n",
        "\n",
        "# Use the multiprocess package to repeat simulate_thompson_path 10000 times.\n",
        "\n",
        "iterations = pool.map(lambda _: simulate_thompson_path(theta, T), range(10000)) # multiprocess plays well with anonymous lambda functions\n",
        "\n",
        "# print(iterations)\n",
        "\n",
        "# Compute the mean for each period t.\n",
        "\n",
        "# ------------------------------------------------------------------------------\n",
        "T = 25\n",
        "theta = np.array([.6, .3, .9, .7, .1, 0])\n",
        "reps  = 1000\n",
        "\n",
        "# Use the multiprocess package to repeat simulate_thompson_path 1000 times.\n",
        "paths = pool.map(lambda _: simulate_thompson_path(theta, T), range(reps))\n",
        "\n",
        "# Compute the mean for each period t.\n",
        "np.array(paths).mean(axis = 0)\n",
        "\n",
        "# Define average_thompson_path(theta, T, reps = 10000).\n",
        "def average_thompson_path(theta, T, reps = 10000):\n",
        "    '''Simulate reps, replicate Thompson paths.'''\n",
        "\n",
        "    # Use the multiprocess package to repeat simulate_thompson_path 10000 times.\n",
        "    pool  = multiprocess.Pool()\n",
        "    paths = pool.map(lambda _: simulate_thompson_path(theta, T), range(reps))\n",
        "\n",
        "    return np.array(paths).mean(axis = 0) # compute means for each column (period).\n",
        "\n",
        "# Check if it works on mini example 2.\n",
        "average_thompson_path(theta, T)"
      ],
      "metadata": {
        "id": "QCT1C0pLWMg5",
        "colab": {
          "base_uri": "https://localhost:8080/",
          "height": 381
        },
        "outputId": "d6c9ee0f-66c0-4e13-ba8b-404c50debef4"
      },
      "execution_count": 40,
      "outputs": [
        {
          "output_type": "error",
          "ename": "KeyboardInterrupt",
          "evalue": "",
          "traceback": [
            "\u001b[0;31m---------------------------------------------------------------------------\u001b[0m",
            "\u001b[0;31mKeyboardInterrupt\u001b[0m                         Traceback (most recent call last)",
            "\u001b[0;32m/tmp/ipython-input-2867333088.py\u001b[0m in \u001b[0;36m<cell line: 0>\u001b[0;34m()\u001b[0m\n\u001b[1;32m      6\u001b[0m \u001b[0;31m# Use the multiprocess package to repeat simulate_thompson_path 10000 times.\u001b[0m\u001b[0;34m\u001b[0m\u001b[0;34m\u001b[0m\u001b[0m\n\u001b[1;32m      7\u001b[0m \u001b[0;34m\u001b[0m\u001b[0m\n\u001b[0;32m----> 8\u001b[0;31m \u001b[0miterations\u001b[0m \u001b[0;34m=\u001b[0m \u001b[0mpool\u001b[0m\u001b[0;34m.\u001b[0m\u001b[0mmap\u001b[0m\u001b[0;34m(\u001b[0m\u001b[0;32mlambda\u001b[0m \u001b[0m_\u001b[0m\u001b[0;34m:\u001b[0m \u001b[0msimulate_thompson_path\u001b[0m\u001b[0;34m(\u001b[0m\u001b[0mtheta\u001b[0m\u001b[0;34m,\u001b[0m \u001b[0mT\u001b[0m\u001b[0;34m)\u001b[0m\u001b[0;34m,\u001b[0m \u001b[0mrange\u001b[0m\u001b[0;34m(\u001b[0m\u001b[0;36m10000\u001b[0m\u001b[0;34m)\u001b[0m\u001b[0;34m)\u001b[0m \u001b[0;31m# multiprocess plays well with anonymous lambda functions\u001b[0m\u001b[0;34m\u001b[0m\u001b[0;34m\u001b[0m\u001b[0m\n\u001b[0m\u001b[1;32m      9\u001b[0m \u001b[0;34m\u001b[0m\u001b[0m\n\u001b[1;32m     10\u001b[0m \u001b[0;31m# print(iterations)\u001b[0m\u001b[0;34m\u001b[0m\u001b[0;34m\u001b[0m\u001b[0m\n",
            "\u001b[0;32m/usr/local/lib/python3.12/dist-packages/multiprocess/pool.py\u001b[0m in \u001b[0;36mmap\u001b[0;34m(self, func, iterable, chunksize)\u001b[0m\n\u001b[1;32m    365\u001b[0m         \u001b[0;32min\u001b[0m \u001b[0ma\u001b[0m \u001b[0mlist\u001b[0m \u001b[0mthat\u001b[0m \u001b[0;32mis\u001b[0m \u001b[0mreturned\u001b[0m\u001b[0;34m.\u001b[0m\u001b[0;34m\u001b[0m\u001b[0;34m\u001b[0m\u001b[0m\n\u001b[1;32m    366\u001b[0m         '''\n\u001b[0;32m--> 367\u001b[0;31m         \u001b[0;32mreturn\u001b[0m \u001b[0mself\u001b[0m\u001b[0;34m.\u001b[0m\u001b[0m_map_async\u001b[0m\u001b[0;34m(\u001b[0m\u001b[0mfunc\u001b[0m\u001b[0;34m,\u001b[0m \u001b[0miterable\u001b[0m\u001b[0;34m,\u001b[0m \u001b[0mmapstar\u001b[0m\u001b[0;34m,\u001b[0m \u001b[0mchunksize\u001b[0m\u001b[0;34m)\u001b[0m\u001b[0;34m.\u001b[0m\u001b[0mget\u001b[0m\u001b[0;34m(\u001b[0m\u001b[0;34m)\u001b[0m\u001b[0;34m\u001b[0m\u001b[0;34m\u001b[0m\u001b[0m\n\u001b[0m\u001b[1;32m    368\u001b[0m \u001b[0;34m\u001b[0m\u001b[0m\n\u001b[1;32m    369\u001b[0m     \u001b[0;32mdef\u001b[0m \u001b[0mstarmap\u001b[0m\u001b[0;34m(\u001b[0m\u001b[0mself\u001b[0m\u001b[0;34m,\u001b[0m \u001b[0mfunc\u001b[0m\u001b[0;34m,\u001b[0m \u001b[0miterable\u001b[0m\u001b[0;34m,\u001b[0m \u001b[0mchunksize\u001b[0m\u001b[0;34m=\u001b[0m\u001b[0;32mNone\u001b[0m\u001b[0;34m)\u001b[0m\u001b[0;34m:\u001b[0m\u001b[0;34m\u001b[0m\u001b[0;34m\u001b[0m\u001b[0m\n",
            "\u001b[0;32m/usr/local/lib/python3.12/dist-packages/multiprocess/pool.py\u001b[0m in \u001b[0;36mget\u001b[0;34m(self, timeout)\u001b[0m\n\u001b[1;32m    766\u001b[0m \u001b[0;34m\u001b[0m\u001b[0m\n\u001b[1;32m    767\u001b[0m     \u001b[0;32mdef\u001b[0m \u001b[0mget\u001b[0m\u001b[0;34m(\u001b[0m\u001b[0mself\u001b[0m\u001b[0;34m,\u001b[0m \u001b[0mtimeout\u001b[0m\u001b[0;34m=\u001b[0m\u001b[0;32mNone\u001b[0m\u001b[0;34m)\u001b[0m\u001b[0;34m:\u001b[0m\u001b[0;34m\u001b[0m\u001b[0;34m\u001b[0m\u001b[0m\n\u001b[0;32m--> 768\u001b[0;31m         \u001b[0mself\u001b[0m\u001b[0;34m.\u001b[0m\u001b[0mwait\u001b[0m\u001b[0;34m(\u001b[0m\u001b[0mtimeout\u001b[0m\u001b[0;34m)\u001b[0m\u001b[0;34m\u001b[0m\u001b[0;34m\u001b[0m\u001b[0m\n\u001b[0m\u001b[1;32m    769\u001b[0m         \u001b[0;32mif\u001b[0m \u001b[0;32mnot\u001b[0m \u001b[0mself\u001b[0m\u001b[0;34m.\u001b[0m\u001b[0mready\u001b[0m\u001b[0;34m(\u001b[0m\u001b[0;34m)\u001b[0m\u001b[0;34m:\u001b[0m\u001b[0;34m\u001b[0m\u001b[0;34m\u001b[0m\u001b[0m\n\u001b[1;32m    770\u001b[0m             \u001b[0;32mraise\u001b[0m \u001b[0mTimeoutError\u001b[0m\u001b[0;34m\u001b[0m\u001b[0;34m\u001b[0m\u001b[0m\n",
            "\u001b[0;32m/usr/local/lib/python3.12/dist-packages/multiprocess/pool.py\u001b[0m in \u001b[0;36mwait\u001b[0;34m(self, timeout)\u001b[0m\n\u001b[1;32m    763\u001b[0m \u001b[0;34m\u001b[0m\u001b[0m\n\u001b[1;32m    764\u001b[0m     \u001b[0;32mdef\u001b[0m \u001b[0mwait\u001b[0m\u001b[0;34m(\u001b[0m\u001b[0mself\u001b[0m\u001b[0;34m,\u001b[0m \u001b[0mtimeout\u001b[0m\u001b[0;34m=\u001b[0m\u001b[0;32mNone\u001b[0m\u001b[0;34m)\u001b[0m\u001b[0;34m:\u001b[0m\u001b[0;34m\u001b[0m\u001b[0;34m\u001b[0m\u001b[0m\n\u001b[0;32m--> 765\u001b[0;31m         \u001b[0mself\u001b[0m\u001b[0;34m.\u001b[0m\u001b[0m_event\u001b[0m\u001b[0;34m.\u001b[0m\u001b[0mwait\u001b[0m\u001b[0;34m(\u001b[0m\u001b[0mtimeout\u001b[0m\u001b[0;34m)\u001b[0m\u001b[0;34m\u001b[0m\u001b[0;34m\u001b[0m\u001b[0m\n\u001b[0m\u001b[1;32m    766\u001b[0m \u001b[0;34m\u001b[0m\u001b[0m\n\u001b[1;32m    767\u001b[0m     \u001b[0;32mdef\u001b[0m \u001b[0mget\u001b[0m\u001b[0;34m(\u001b[0m\u001b[0mself\u001b[0m\u001b[0;34m,\u001b[0m \u001b[0mtimeout\u001b[0m\u001b[0;34m=\u001b[0m\u001b[0;32mNone\u001b[0m\u001b[0;34m)\u001b[0m\u001b[0;34m:\u001b[0m\u001b[0;34m\u001b[0m\u001b[0;34m\u001b[0m\u001b[0m\n",
            "\u001b[0;32m/usr/lib/python3.12/threading.py\u001b[0m in \u001b[0;36mwait\u001b[0;34m(self, timeout)\u001b[0m\n\u001b[1;32m    653\u001b[0m             \u001b[0msignaled\u001b[0m \u001b[0;34m=\u001b[0m \u001b[0mself\u001b[0m\u001b[0;34m.\u001b[0m\u001b[0m_flag\u001b[0m\u001b[0;34m\u001b[0m\u001b[0;34m\u001b[0m\u001b[0m\n\u001b[1;32m    654\u001b[0m             \u001b[0;32mif\u001b[0m \u001b[0;32mnot\u001b[0m \u001b[0msignaled\u001b[0m\u001b[0;34m:\u001b[0m\u001b[0;34m\u001b[0m\u001b[0;34m\u001b[0m\u001b[0m\n\u001b[0;32m--> 655\u001b[0;31m                 \u001b[0msignaled\u001b[0m \u001b[0;34m=\u001b[0m \u001b[0mself\u001b[0m\u001b[0;34m.\u001b[0m\u001b[0m_cond\u001b[0m\u001b[0;34m.\u001b[0m\u001b[0mwait\u001b[0m\u001b[0;34m(\u001b[0m\u001b[0mtimeout\u001b[0m\u001b[0;34m)\u001b[0m\u001b[0;34m\u001b[0m\u001b[0;34m\u001b[0m\u001b[0m\n\u001b[0m\u001b[1;32m    656\u001b[0m             \u001b[0;32mreturn\u001b[0m \u001b[0msignaled\u001b[0m\u001b[0;34m\u001b[0m\u001b[0;34m\u001b[0m\u001b[0m\n\u001b[1;32m    657\u001b[0m \u001b[0;34m\u001b[0m\u001b[0m\n",
            "\u001b[0;32m/usr/lib/python3.12/threading.py\u001b[0m in \u001b[0;36mwait\u001b[0;34m(self, timeout)\u001b[0m\n\u001b[1;32m    353\u001b[0m         \u001b[0;32mtry\u001b[0m\u001b[0;34m:\u001b[0m    \u001b[0;31m# restore state no matter what (e.g., KeyboardInterrupt)\u001b[0m\u001b[0;34m\u001b[0m\u001b[0;34m\u001b[0m\u001b[0m\n\u001b[1;32m    354\u001b[0m             \u001b[0;32mif\u001b[0m \u001b[0mtimeout\u001b[0m \u001b[0;32mis\u001b[0m \u001b[0;32mNone\u001b[0m\u001b[0;34m:\u001b[0m\u001b[0;34m\u001b[0m\u001b[0;34m\u001b[0m\u001b[0m\n\u001b[0;32m--> 355\u001b[0;31m                 \u001b[0mwaiter\u001b[0m\u001b[0;34m.\u001b[0m\u001b[0macquire\u001b[0m\u001b[0;34m(\u001b[0m\u001b[0;34m)\u001b[0m\u001b[0;34m\u001b[0m\u001b[0;34m\u001b[0m\u001b[0m\n\u001b[0m\u001b[1;32m    356\u001b[0m                 \u001b[0mgotit\u001b[0m \u001b[0;34m=\u001b[0m \u001b[0;32mTrue\u001b[0m\u001b[0;34m\u001b[0m\u001b[0;34m\u001b[0m\u001b[0m\n\u001b[1;32m    357\u001b[0m             \u001b[0;32melse\u001b[0m\u001b[0;34m:\u001b[0m\u001b[0;34m\u001b[0m\u001b[0;34m\u001b[0m\u001b[0m\n",
            "\u001b[0;31mKeyboardInterrupt\u001b[0m: "
          ]
        }
      ]
    },
    {
      "cell_type": "markdown",
      "source": [
        "Now define the function `average_thompson_path(theta, T, reps = 10000)` based on your example above and test it for the mini example.\n",
        "\n",
        "**Hint:** To test your function, you might initially want to use fewer simulation `reps` to save time."
      ],
      "metadata": {
        "id": "zdOi7egyWrn_"
      }
    },
    {
      "cell_type": "code",
      "source": [
        "# Define average_thompson_path(theta, T, reps = 10000).\n",
        "\n",
        "# Check if it works on mini example 2.\n"
      ],
      "metadata": {
        "id": "-YbbKqR-P7wg"
      },
      "execution_count": null,
      "outputs": []
    },
    {
      "cell_type": "markdown",
      "source": [
        "### 1) c)"
      ],
      "metadata": {
        "id": "3XXazOlAoacJ"
      }
    },
    {
      "cell_type": "markdown",
      "source": [
        "Pick a fixed vector of parameters $(\\theta^1, ... , \\theta^k)$ and a time horizon $T$ and use the second function to plot the average (across replications) of *cumulative average regret* (or *finite horizon regret*)\n",
        "\n",
        "$$\n",
        "\\overline R_T = \\frac{1}{T} \\sum_{t=1}^T \\bigl[ (\\text{max}_d \\; \\theta^d) - \\theta^{D_t}\\bigr] = \\frac{1}{T} \\sum_{t=1}^T \\Delta^{D_t} = \\frac{1}{T} \\sum_d T^d_T \\cdot \\Delta^d\n",
        "$$\n",
        "\n",
        "as a function of $T$, using a large number of replications $R$ (such as $R = 10.000$).\n",
        "\n",
        "Repeat this for several different choices of $(\\theta^1, ... , \\theta^k)$. How does the result relate to the theoretical regret rate bound discussed in the lecture, and to Agrawal and Goyal (2012)?"
      ],
      "metadata": {
        "id": "VTcKrJVnO0zd"
      }
    },
    {
      "cell_type": "markdown",
      "source": [
        "#### Theoretical regret bounds\n",
        "\n",
        "##### **Lower bound**\n",
        "Lai and Robbins (1985) proof that Thompson sampling has the following **lower bound** on cumulative average regret $\\overline R_T$:\n",
        "\n",
        "$$\n",
        "\\overline R_T \\geq \\bigl[\\sum_{d \\neq d^*} \\frac{\\Delta^d}{\\text{kl}(\\theta^d, \\theta^*)} + o(1) \\bigr] \\frac{\\log(T)}{T}\n",
        "$$\n",
        "\n",
        "with *Kullback-Leibler divergence*\n",
        "\n",
        "$$\n",
        "\\text{kl}(\\theta^d, \\theta^*) = \\theta^d \\cdot \\log\\bigl(\\frac{\\theta^d}{\\theta^*}\\bigr) + (1-\\theta^d) \\cdot \\log\\bigl(\\frac{1-\\theta^d}{1-\\theta^*}\\bigr)\n",
        "$$\n",
        "\n",
        "This bound holds $\\theta$ constant as $T \\rightarrow \\infty$. This provides a good characterisation of Thompson sampling for the *high-powered case*, i.e. for a large number of observations $T$ relative to the treatment size $\\Delta^d$. No adaptive algorithm can achieve a better regret bound than this $\\log T$ rate.\n",
        "\n",
        "##### ***Upper bound***\n",
        "Agrawal and Goyal (2012) give an **upper bound** for regret. They show that Thompson sampling achieves logarithmic expected regret. For the stochastic $k$-armed bandit, expected cumulative regret has an upper bound of order\n",
        "\n",
        "$$\n",
        "E[\\overline R_T] \\leq O\\bigl( \\big[\\sum_{d \\neq d^*} \\frac{1}{(\\Delta^d)^2} \\bigr]^2  \\frac{\\log( T)}{T} \\bigr)\n",
        "$$\n",
        "\n",
        "Thompson sampling satisfies both theoretical bounds. **Expected cumulative regret converges.** It approaches the lower regret bound derived by Lai and Robbins (1985) as $t \\rightarrow \\infty$.\n"
      ],
      "metadata": {
        "id": "Ldj2NPN5sLKJ"
      }
    },
    {
      "cell_type": "markdown",
      "source": [
        "#### Convergence and choice of prior"
      ],
      "metadata": {
        "id": "EK33fmqks2Zy"
      }
    },
    {
      "cell_type": "markdown",
      "source": [
        "Let's see how convergence depends on our choice of the prior $\\theta$! Below, create plots different priors theta, setting $T=80$. Use the function `average_thompson_path()` we defined above."
      ],
      "metadata": {
        "id": "yx1qX56ayh5Q"
      }
    },
    {
      "cell_type": "code",
      "execution_count": null,
      "metadata": {
        "tags": [],
        "id": "89951f13-3923-4b31-8c7f-55c4547c44f6"
      },
      "outputs": [],
      "source": [
        "# Since we'll create multiple plots, its convenient to set the plotting parameters\n",
        "# inside a function.\n",
        "\n",
        "# To code this up, you might want to start with creating one plot for\n",
        "T = 80\n",
        "theta = np.array([.2,.5,.8])\n",
        "\n",
        "# Compute a vector for the cumulative average regret, substracting the average\n",
        "# treatment effect of the arm chosen at every t from the effect of the optimal arm.\n",
        "\n",
        "# Visualise this vector over time.\n",
        "\n",
        "# If you have a plot, try to generalise your code and define the function\n",
        "# plot_average_thompspon_path(avg_thompson, theta, T) where avg_thompson is the\n",
        "# output of average_thompson_path().\n"
      ]
    },
    {
      "cell_type": "markdown",
      "source": [
        "Play around with your function, try out different $\\theta$! Look for systematic patterns. How do convergence patterns change for\n",
        "\n",
        "1. different $k$ and\n",
        "2. different prior variances $Var(\\theta)$?"
      ],
      "metadata": {
        "id": "pmkPlSyeIprw"
      }
    },
    {
      "cell_type": "markdown",
      "source": [
        "### 1) d)"
      ],
      "metadata": {
        "id": "O7xaowVAoe8Z"
      }
    },
    {
      "cell_type": "markdown",
      "source": [
        "Now let $k = 2$, fix $\\theta_1 = .5$ and $T = 200$. Plot cumulative average regret for $T$ as a function of $\\theta_2$, for $\\theta_2 \\in [0, 1]$. How does the result relate to the local-to-zero asymptotics discussed in class, and\n",
        "to Figure 3 in [Kuang and Wager (2021)](https://arxiv.org/abs/2101.09855)?\n",
        "\n",
        "**Extra task:** If you've already adjusted the functions above to return a record of whether Thompson sampling picks the correct treatment arm at each $t$: additionally plot the share of observations assigned to the optimal treatment arm.\n",
        "\n",
        "![fig3-kuangWager2021.jpg](https://drive.google.com/uc?export=view&id=1lQDAsz2LyPKzmdb1sgflvPBKdIRL3ezA)\n",
        "\n",
        "Figure taken from: Kuang and Wager (2021)"
      ],
      "metadata": {
        "id": "bue_k8VxQTtz"
      }
    },
    {
      "cell_type": "markdown",
      "source": [
        " This section discusses *local-to-zero asymptotics* for *low-powered cases*. Relevant applications include high-stakes settings in which a decision maker can only perform a small sequence of experiments.\n",
        "\n",
        " How does Thompson sampling behave when small $\\Delta^d$ makes it hard to quickly identify optimal treatment? What is the worst-case average regret?\n",
        "\n",
        " Since we focus on $k=2$, denote the *arm gap* $\\Delta = |\\theta^1-\\theta^2|$. (Kuang and Wager (2021) call this $\\delta$.)\n",
        "\n",
        " **Hint:** Compute regret as\n",
        "\n",
        " $$\n",
        "\\frac{1}{T} \\sum_{t=1}^T \\bigl[ (\\text{max}_d \\; \\theta^d) - \\theta^{D_t}\\bigr] = (\\text{max}_d \\; \\theta^d) - \\frac{1}{T} \\sum_{t=1}^T \\theta^{D_t}\n",
        " $$"
      ],
      "metadata": {
        "id": "Hybvu47BgjDT"
      }
    },
    {
      "cell_type": "code",
      "execution_count": null,
      "metadata": {
        "id": "b95e11f1-95af-490f-adf3-23cbe5db727c"
      },
      "outputs": [],
      "source": [
        "# Fix T and theta1. Let theta2 range in [0, 1].\n",
        "\n",
        "# Compute the cumulative average regret for each theta2.\n",
        "\n",
        "# Create a plot with theta2 on the horizontal and regret on the vertical axis.\n"
      ]
    },
    {
      "cell_type": "markdown",
      "source": [
        "Your figure should have a sharp dip at 0.5. Why?"
      ],
      "metadata": {
        "id": "JYg6rWm-_Y8d"
      }
    },
    {
      "cell_type": "markdown",
      "source": [
        "## **Question 2:** Thompson sampling and exploration sampling\n",
        "\n",
        "**Exploration sampling**, introduced by Kasy and Sautmann (2021), is a modification of Thompson sampling for settings in which a policy maker runs a pilot experiment on a subpopulation to explore different policy alternatives before implementing the best one in a full-scale policy roll-out. When the number of participants in the experiment is small, it is justifiable to only consider the social welfare of the policy choice $d^*_T$ for the full-scale implementation. Since the goal of the policy maker is to maximize the success rate of this *final policy choice*, there is no exploitation motive during the pilot. The exploration-exploitation trade-off typical for bandit settings is resolved by focusing exclusively on exploration. Exploration is achieved by adjusting the assignment probability of treatment $d$ at time $t$, $p_t^d$, from Thompson sampling by shifting weight from the best performing option to its close competitors. This improves power for comparing relevant alternatives.\n",
        "\n",
        "### Exploration sampling\n",
        "Consider $T$ waves of repeated cross-sections from the population of interest of size $N_t$ with units $i = 1, \\ldots, N_t$. The total sample is $M = \\sum_t N_t$. As before, $k$ treatments $D_{it} = 1, ..., k$ are available. Outcomes are binary and given by the potential outcomes equation $Y_{it} = \\sum_{d=1}^k 1\\{ D_i = d \\} \\cdot Y_{it}^d$. True average treatment effects are $\\theta^d = E[Y^d_{it}]$. Treatment effects are independent across $d$, and potential outcomes satisfy SUTVA. Denote the number of units assigned to treatment $d$ at wave $t$ $$\n",
        "\\begin{aligned}\n",
        "&n_t^d = \\sum_i 1\\{ D_{it} = d \\}, & n_t = (n_t^1, \\ldots, n^k_t), \\\\\n",
        "& \\sum_d n_t^d = N_t\n",
        "\\end{aligned}\n",
        "$$ and the number of successes in wave $t$ for treatment $d$: $$\n",
        "\\begin{aligned}\n",
        "&s_t^d = \\sum_i 1\\{ D_{it} = d, Y_{it} = 1 \\}, & s_t = (s_t^1, \\ldots, s^k_t), \\\\\n",
        "& s_t^d \\leq n_t^d\n",
        "\\end{aligned}\n",
        "$$ and their cumulative outcomes from 1 to $t$ $$\n",
        "\\begin{aligned}\n",
        "&m_t^d = \\sum_{t^\\prime \\leq t} n_{t^\\prime}^d, & r_t^d = \\sum_{t^\\prime \\leq t} s_{t^\\prime}^d\n",
        "\\end{aligned}\n",
        "$$ As before consider the beta-binomial model with $Y_{it} \\sim Ber(\\theta^d)$ and the prior $\\theta^d \\sim Beta(\\alpha_0^d, \\beta_0^d)$. For a uniform prior, $\\alpha_0^d = \\beta_0^d = 1 \\forall d$ as above. The posterior is $$\n",
        "\\begin{aligned}\n",
        "\\theta^d | m_t, r_t &\\sim Beta(\\alpha_t^d, \\beta_t^d) \\; \\text{ where} \\\\\n",
        "\\alpha_t^d &= \\alpha_{t-1}^d + s_t^d = \\alpha_0^d + r_t^d \\\\\n",
        "\\beta_t^d &= \\beta_{t-1}^d + n_t^d - s_t^d = \\beta_0^d + m_t^d -r_t^d \\\\\n",
        "\\end{aligned}\n",
        "$$ After the last wave $T$ the policy for the large-scale implementation is chosen to maximise *per-capita expected social welfare*, which is given by the mean of the final posterior: $$\n",
        "SW_T(d) = E[\\theta^d | m_T, r_T] = \\frac{\\alpha_0^d + r_T^d}{\\alpha_0^d + \\beta_0^d + m_T^d}\n",
        "$$ Again, this resembles a shrinkage estimator. The *optimal policy choice* is the treatment with the highest posterior mean $$\n",
        "d_T^* \\in \\arg \\max_d SW_T(d)\n",
        "$$ and the *true optimal policy choice* is $$\n",
        "d^{(1)} \\in \\arg \\max_{d^\\prime} \\theta^{d^\\prime}\n",
        "$$To evaluate the algorithm, we consider *policy regret* instead of in-sample regret (cumulative average regret) as before. Define policy regret as $\\Delta^d := \\theta^{d^{(1)}} - \\theta^d$. *Expected policy regret* is the expected value of the policy regret for the final policy choice, conditional on the true treatment effects $\\theta$: $$\n",
        "R_\\theta (T) = E[\\Delta^{d^*_T} | \\theta] = \\sum_d \\Delta^d P(d^*_T = d | \\theta)\n",
        "$$\n",
        "\n",
        "Thompson sampling assigns treatment $d$ with the posterior probability that given past observed outcomes, $d$ is the optimal treatment: $$\n",
        "p_t^d = P(d = \\arg \\max_{d^\\prime} \\theta^{d^\\prime} | m_{t-1}, r_{t-1})\n",
        "$$For the beta-binomial model, $\\hat\\theta$ is sampled from the posterior (see above). *Exploration sampling* replaces the *Thompson assignment shares* $(p^1_t, \\ldots, p_t^k)$ with the transformed shares $q^d_t$: $$\n",
        "\\begin{aligned}\n",
        "&q_t^d = S_t \\cdot p_t^d(1-p_t^d), &S_t = \\frac{1}{\\sum_{d^\\prime} p_t^{d^\\prime} (1 - p_t^{d^\\prime})}\n",
        "\\end{aligned}\n",
        "$$Note that the mapping from $p_t^d$ to $q_t^d$ is increasing and convex in $p_t^d$, such that exploration sampling shifts weight from the best performing option to its close competitors compared to Thompson sampling."
      ],
      "metadata": {
        "id": "ocRC9TQKohRm"
      }
    },
    {
      "cell_type": "markdown",
      "source": [
        "We will implement and analyse exploration sampling and compare it to Thompson sampling."
      ],
      "metadata": {
        "id": "CLcd3oPkpYZy"
      }
    },
    {
      "cell_type": "markdown",
      "source": [
        "### 2) a)"
      ],
      "metadata": {
        "id": "qk4AciGIooQP"
      }
    },
    {
      "cell_type": "markdown",
      "source": [
        "### 2) b)"
      ],
      "metadata": {
        "id": "3PTLFt2BoqX_"
      }
    },
    {
      "cell_type": "markdown",
      "source": [
        "### 2) c)"
      ],
      "metadata": {
        "id": "WKAvzs-_osEq"
      }
    },
    {
      "cell_type": "markdown",
      "source": [
        "### 2) d)"
      ],
      "metadata": {
        "id": "6BXrM1R3ou_x"
      }
    }
  ]
}