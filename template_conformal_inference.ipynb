{
  "cells": [
    {
      "cell_type": "markdown",
      "metadata": {
        "id": "view-in-github",
        "colab_type": "text"
      },
      "source": [
        "<a href=\"https://colab.research.google.com/github/Kunslog/ML_summer_Sep_25/blob/main/template_conformal_inference.ipynb\" target=\"_parent\"><img src=\"https://colab.research.google.com/assets/colab-badge.svg\" alt=\"Open In Colab\"/></a>"
      ]
    },
    {
      "cell_type": "markdown",
      "source": [
        "# #2 Conformal inference\n",
        "\n",
        "**Oxford University Economics Summer School 2025, Foundations of Machine Learning**\n",
        "\n",
        "*Johanna Barop, 2025*\n",
        "\n",
        "These are my solutions to the second problem set for the *Foundations of Machine Learning* course at the **Oxford University Economics Summer School 2025**.\n"
      ],
      "metadata": {
        "id": "DSqQzSVrQH0v"
      }
    },
    {
      "cell_type": "markdown",
      "source": [
        "In this problem, you are asked to implement and evaluate some **conformal inference** procedures in Python. This problem builds on the first coding exercise, using Scikit-learn.\n",
        "\n",
        "You may want to consult [Angelopoulos, A. N. and Bates, S. (2021)](https://arxiv.org/pdf/2107.07511), \"A gentle introduction to conformal prediction and distribution-free uncertainty quantification\"."
      ],
      "metadata": {
        "id": "M25VblaKU4ff"
      }
    },
    {
      "cell_type": "markdown",
      "source": [
        "# Conformal inference\n",
        "Conformal inference is a method of uncertainty prediction. Normally we predict outcomes. Now, we will predict a _set_ that is guaranteed to contain the correct outcome in at least $(1-\\alpha)$% of cases.\n",
        "\n",
        "\n",
        "\n",
        "\n",
        "\n"
      ],
      "metadata": {
        "id": "TPeP8fvkhn3_"
      }
    },
    {
      "cell_type": "markdown",
      "source": [
        "## How does conformal inference work intuitively?"
      ],
      "metadata": {
        "id": "YZ4XOM7eunHz"
      }
    },
    {
      "cell_type": "markdown",
      "source": [
        "The **goal** of conformal inference is uncertainty quantification through generating _prediction sets_.\n",
        "\n",
        "![prediction-set-example.jpg](https://drive.google.com/uc?export=view&id=178JhIp_t4JkeToHP4x-q7frFGd4re_DN)\n",
        "\n",
        "Figure taken from: Angelopoulos, A. N. and Bates, S. (2021). A gentle introduction to conformal prediction and distribution-free uncertainty quantification. arXiv preprint arXiv:2107.07511.\n",
        "\n",
        "All other figures are taken from the same paper."
      ],
      "metadata": {
        "id": "TE5ezZyYlOw6"
      }
    },
    {
      "cell_type": "markdown",
      "source": [
        "**Conformal inference recipe**\n",
        "\n",
        "1. Train your model.\n",
        "2. For each point $(x_i, y_i)$ in\n",
        "the calibration set, compute the conformity score $s(x_i, y_i)$.\n",
        "3. For a desired confidence\n",
        "level $(1-\\alpha)$ (e.g., $\\alpha$ = 0.1 for 90% confidence), find the $\\frac{(1 − \\alpha)(n + 1)}{n}$-th quantile of\n",
        "the calibration scores, where $n$ is the size of the calibration set.\n",
        "4. For each test point $x$, construct the prediction set $C(x) = \\{y : s(x, y) ≥ \\text{quantile}\\}$.\n",
        "\n",
        "![illustration-conformal-inference.jpg](https://drive.google.com/uc?export=view&id=1tQJFM3JmzES1uYZrmlj-3m6btuXTX0_6)"
      ],
      "metadata": {
        "id": "71M96DmkpNpW"
      }
    },
    {
      "cell_type": "markdown",
      "source": [
        "## How will we implement conformal inference?"
      ],
      "metadata": {
        "id": "2AO8RAxXvMnU"
      }
    },
    {
      "cell_type": "markdown",
      "source": [
        "Conformal inference works for continuous and discrete data, and we will study **examples** of\n",
        "- continuous outcome regression\n",
        "- quantile regression\n",
        "- discrete classification.\n",
        "\n",
        "For each of these examples, we'll follow the following **steps**:\n",
        "1. Load the data sets and split them into training, calibration, and test set. Train the predictors.\n",
        "2. Compute _scores_ and _confidence sets_.\n",
        "3. Summarise our results. We'll compute coverage rates, interval widths (regression) or prediction set sizes (classification), and visualise the prediction sets for selected examples.\n",
        "4. Discuss strengths and limitations of the approach and compare results across different methods and data sets.\n",
        "\n",
        "We'll work on steps 1 and 2 today and then finish the problem set up tomorrow."
      ],
      "metadata": {
        "id": "IFd8QZOVTzvG"
      }
    },
    {
      "cell_type": "markdown",
      "source": [
        "# Setup"
      ],
      "metadata": {
        "id": "JpnjrFFfQVO7"
      }
    },
    {
      "cell_type": "markdown",
      "source": [
        "Load libraries and data sets - it's good practice to do this at the top of your script."
      ],
      "metadata": {
        "id": "MKQHVe6slmzz"
      }
    },
    {
      "cell_type": "code",
      "execution_count": 31,
      "metadata": {
        "id": "DnNnh5Lw7bx7"
      },
      "outputs": [],
      "source": [
        "# Import all necessary libraries here.\n",
        "\n",
        "# Import the wine and california_housing data sets from sklearn.datasets."
      ]
    },
    {
      "cell_type": "markdown",
      "metadata": {
        "id": "RPyGdErC7bx8"
      },
      "source": [
        "# Define functions to calculate scores and confidence sets"
      ]
    },
    {
      "cell_type": "markdown",
      "source": [
        "We'll define functions at the top because that's best practice. Fill in these functions as you work on the examples!"
      ],
      "metadata": {
        "id": "TdqHTSC8j6NK"
      }
    },
    {
      "cell_type": "markdown",
      "metadata": {
        "id": "5cV5daZD7bx9"
      },
      "source": [
        "First, define the helper function `alphatilde(alpha, n)` for rounding the size cutoff appropriately. It computes\n",
        "$$\n",
        "\\tilde\\alpha = 1-\\frac{\\lceil(n+1)(1-\\alpha)\\rceil}{n}\n",
        "$$"
      ]
    },
    {
      "cell_type": "code",
      "execution_count": 33,
      "metadata": {
        "id": "LqnFhuy57bx-"
      },
      "outputs": [],
      "source": [
        "# Define alphatilde().\n"
      ]
    },
    {
      "cell_type": "markdown",
      "source": [
        "Next define functions to compute the score thresholds and prediction sets for continuous regression, quantile regression, and discrete classification."
      ],
      "metadata": {
        "id": "cztRCL5Hbbc7"
      }
    },
    {
      "cell_type": "markdown",
      "metadata": {
        "id": "gO0wRtJO7bx_"
      },
      "source": [
        "### Continuous outcomes, simple score"
      ]
    },
    {
      "cell_type": "markdown",
      "source": [
        "Define the conformity score as:\n",
        "$$\n",
        "s(x, y) = |y − \\hat f(x)|\n",
        "$$\n",
        "where $\\hat f(x)$ is the predicted value from the ridge regression model."
      ],
      "metadata": {
        "id": "oi51NTdT1jJv"
      }
    },
    {
      "cell_type": "markdown",
      "source": [
        "For evaluation, construct prediction intervals $[\\hat f(x) − q, \\hat f(x) + q]$ where $q$ is the appropriate quantile of calibration residuals."
      ],
      "metadata": {
        "id": "fq0Wo2IE120M"
      }
    },
    {
      "cell_type": "markdown",
      "metadata": {
        "id": "E1-G7R_g7byA"
      },
      "source": [
        "### Quantile regression"
      ]
    },
    {
      "cell_type": "markdown",
      "source": [
        "Define the conformity score as:\n",
        "$$\n",
        "s(x, y) = \\max(t_{\\alpha/2}(x)− y, y − t_{1-\\alpha/2}(x))\n",
        "$$\n",
        "\n",
        "where $t_{\\alpha/2}(x)$ and $t_{1-\\alpha/2}(x)$ are the predicted quantiles.\n",
        "\n",
        "The conformity score measures how far the true value $y$ falls outside the predicted quantile interval, with negative scores indicating the point lies within the predicted interval."
      ],
      "metadata": {
        "id": "5NY-2lDv2o-n"
      }
    },
    {
      "cell_type": "markdown",
      "source": [
        "Intuitively, $\\hat q$ grows or shrinks the distance between the quantiles to achieve coverage:\n",
        "\n",
        "![quantile-regression-illustration.jpg](https://drive.google.com/uc?export=view&id=1yl2-RCoPlPBfmaGYDc6WnRDlhtMZSmsv)"
      ],
      "metadata": {
        "id": "kOFNhYF_w3-h"
      }
    },
    {
      "cell_type": "markdown",
      "metadata": {
        "id": "nw8hR9EI7bx-"
      },
      "source": [
        "### Discrete classification"
      ]
    },
    {
      "cell_type": "markdown",
      "source": [
        "Define the conformity score as:\n",
        "\n",
        "$$\n",
        "s(x,y) = \\sum_{y \\prime} \\mathbb{1} ( j(y|x) \\ge  j(y^\\prime|x ) ) \\cdot \\hat f(y|x)\n",
        "$$\n",
        "\n",
        "where $\\mathbb{1}(\\cdot)$ is the indicator function. $\\hat f(y|x)$ represents the predicted probability of class $y$ given features $x$. $j(y, x)$ is the rank of $\\hat f(y|x)$  across all possible labels $y$.\n",
        "\n",
        "![prediction-sets-classification.jpg](https://drive.google.com/uc?export=view&id=1I0fMj-uZEkL5l7cT6U7WrgYn942o0_T0)"
      ],
      "metadata": {
        "id": "tZxraYSWprRN"
      }
    },
    {
      "cell_type": "markdown",
      "metadata": {
        "id": "SpXEt5eA7byB"
      },
      "source": [
        "# Empirical examples"
      ]
    },
    {
      "cell_type": "markdown",
      "metadata": {
        "id": "EZPR88LO7byC"
      },
      "source": [
        "## Continuous regression"
      ]
    },
    {
      "cell_type": "markdown",
      "source": [
        "Load the `california_housing` data and split it into features X and labels Y.\n",
        "\n",
        "\n",
        "\n",
        "For a documentation of the data, see: https://scikit-learn.org/stable/datasets/real_world.html#california-housing-dataset"
      ],
      "metadata": {
        "id": "cHddrddgcQpY"
      }
    },
    {
      "cell_type": "markdown",
      "metadata": {
        "id": "7u1Flf9zSiMS"
      },
      "source": [
        "Split the data into three subsets:\n",
        "- a **training set** (60%) for initial model fitting,\n",
        "- a **calibaration set** (20%) used for conformal inference calibration,\n",
        "- and a **validation set** (20%) for final evaluation."
      ]
    },
    {
      "cell_type": "code",
      "execution_count": 34,
      "metadata": {
        "id": "iejHj8HD7byD"
      },
      "outputs": [],
      "source": [
        "# Load the data and separate the data set into features X and outcomes y.\n",
        "from sklearn.datasets import load_wine, fetch_california_housing\n",
        "from sklearn.preprocessing import StandardScaler # For normalizing regressors\n",
        "\n",
        "data1 = fetch_california_housing()\n",
        "X = data1[\"data\"]\n",
        "X = StandardScaler().fit_transform(X)\n",
        "y = data1[\"target\"]\n",
        "\n",
        "X_train, X_test, y_train, y_test = train_test_split(X, y, test_size=0.4, random_state=42)\n",
        "X_cal, X_val, y_cal, y_val = train_test_split(X_test, y_test, test_size=0.5, random_state=42)"
      ]
    },
    {
      "cell_type": "code",
      "source": [
        "# Split the data into training, calibration, and validation.\n",
        "# Hint: Do this in two steps using train_test_split()."
      ],
      "metadata": {
        "id": "lUZQ3EabwpiK"
      },
      "execution_count": null,
      "outputs": []
    },
    {
      "cell_type": "markdown",
      "source": [
        "Implement a _ridge regression_ with penalty parameter selected via cross-validation. Use cross-validation on the training set to find the optimal penalty parameter. (See the \"Supervised Learning\" PS for guidance.)"
      ],
      "metadata": {
        "id": "0eSlPRHHcAlo"
      }
    },
    {
      "cell_type": "code",
      "execution_count": null,
      "metadata": {
        "id": "kPncvnr-7byD"
      },
      "outputs": [],
      "source": [
        "# Define the parameter range.\n",
        "\n",
        "# Run a grid search with cross-validation.\n",
        "\n",
        "# Select the best model."
      ]
    },
    {
      "cell_type": "markdown",
      "source": [
        "Compute the predictions on calibration and validation data sets."
      ],
      "metadata": {
        "id": "UWb4CsKDcv3y"
      }
    },
    {
      "cell_type": "code",
      "execution_count": null,
      "metadata": {
        "id": "-yMg7xX57byD"
      },
      "outputs": [],
      "source": [
        "# Compute the predictions on calibration and validation data sets.\n",
        "# Make sure to store them for future reference."
      ]
    },
    {
      "cell_type": "markdown",
      "source": [
        "Compute the threshold as the quantile of the calibration scores. Then obtain the prediction sets for the validation data."
      ],
      "metadata": {
        "id": "Y62syklLdF6e"
      }
    },
    {
      "cell_type": "code",
      "execution_count": null,
      "metadata": {
        "id": "0OJNwPT07byD"
      },
      "outputs": [],
      "source": [
        "# Compute the thresholds.\n",
        "# Then use the thresholds to obtain the prediction sets for the validation data."
      ]
    },
    {
      "cell_type": "code",
      "metadata": {
        "id": "aafdd172"
      },
      "source": [
        "# Print the shape and the first few entries of the prediction sets to check your work."
      ],
      "execution_count": null,
      "outputs": []
    },
    {
      "cell_type": "markdown",
      "source": [
        "Calculate the average interval width and compute empirical coverage on the validation data.\n",
        "\n",
        "![coverage-illustration.jpg](https://drive.google.com/uc?export=view&id=1ciYTYrnb7F3xxqyVGTKsmL5UCgqUlMPl)"
      ],
      "metadata": {
        "id": "50u-CXtp0-CS"
      }
    },
    {
      "cell_type": "code",
      "source": [
        "# Average interval width\n",
        "\n",
        "# Coverage\n"
      ],
      "metadata": {
        "id": "zXnkjB0j4xTK"
      },
      "execution_count": 4,
      "outputs": []
    },
    {
      "cell_type": "markdown",
      "source": [
        "**What do set sizes tell us?**\n",
        "\n",
        "- **Set size:**\n",
        "- **Spread of set size** (i.e., some sets are small, others are large):"
      ],
      "metadata": {
        "id": "0tu8Tq7G1E_a"
      }
    },
    {
      "cell_type": "markdown",
      "source": [
        "Plot prediction intervals for a subset of validation points and compare them to the true values."
      ],
      "metadata": {
        "id": "8zE4T0uzlnF5"
      }
    },
    {
      "cell_type": "code",
      "metadata": {
        "id": "Khvi4TGk2YiV"
      },
      "source": [
        "# Create your plot here to visualise your work. Hint: Use matplotlib.pyplot.scatter() and matplotlib.pyplot.plot()"
      ],
      "execution_count": 5,
      "outputs": []
    },
    {
      "cell_type": "markdown",
      "source": [
        "Plot the distribution of interval width over the validation set. What do you notice?"
      ],
      "metadata": {
        "id": "DcDdPsH5yIW5"
      }
    },
    {
      "cell_type": "code",
      "source": [
        "# Create your plot here. Hint: Use matplotlib.pyplot.hist()"
      ],
      "metadata": {
        "id": "Xsv-0ei1vA5Z"
      },
      "execution_count": 6,
      "outputs": []
    },
    {
      "cell_type": "markdown",
      "metadata": {
        "id": "L9ntVH3z7byD"
      },
      "source": [
        "## Quantile regression"
      ]
    },
    {
      "cell_type": "markdown",
      "source": [
        "Continue using the `california_housing` data."
      ],
      "metadata": {
        "id": "gf0Qq2XtdMhi"
      }
    },
    {
      "cell_type": "markdown",
      "metadata": {
        "id": "RMnUAL5A7byE"
      },
      "source": [
        "Fit quantile regression models for quantiles $\\tau_{\\alpha/2}$ and $\\tau_{1-\\alpha/2}$ (e.g., 0.05 and 0.95 for $\\alpha$ = 0.1). For simplicity, use fixed L1 regularisation and no tuning.\n",
        "Note that you can use scikit-learn’s `QuantileRegressor`."
      ]
    },
    {
      "cell_type": "code",
      "execution_count": 7,
      "metadata": {
        "id": "rA136BlK7byE"
      },
      "outputs": [],
      "source": [
        "# Fit quantile regression models for lower and upper quantiles."
      ]
    },
    {
      "cell_type": "markdown",
      "source": [
        "Compute the predictions on calibration and validation data sets."
      ],
      "metadata": {
        "id": "hx3IckchfN1Y"
      }
    },
    {
      "cell_type": "code",
      "execution_count": 8,
      "metadata": {
        "id": "jxuEqsC77byF"
      },
      "outputs": [],
      "source": [
        "# Compute the predictions on calibration and validation data sets.\n",
        "# Make sure to store them for future reference."
      ]
    },
    {
      "cell_type": "markdown",
      "source": [
        "Compute the threshold as the quantile of the calibration scores. Then obtain the prediction sets for the validation data."
      ],
      "metadata": {
        "id": "DaULMMJlfQKm"
      }
    },
    {
      "cell_type": "code",
      "execution_count": 9,
      "metadata": {
        "id": "wbgMs4WlzdhM"
      },
      "outputs": [],
      "source": [
        "# Compute the thresholds.\n",
        "# Then use the thresholds to obtain the prediction sets for the validation data."
      ]
    },
    {
      "cell_type": "code",
      "metadata": {
        "id": "9dlj7q2BzdhN"
      },
      "source": [
        "# Print the shape and the first few entries of the prediction sets to check your work."
      ],
      "execution_count": 10,
      "outputs": []
    },
    {
      "cell_type": "markdown",
      "source": [
        "Compare coverage and interval widths with the ridge regression approach from the\n",
        "previous problem. Analyze whether quantile regression provides more adaptive intervals and discuss the trade-offs between the two approaches."
      ],
      "metadata": {
        "id": "E8KEC69o3aEn"
      }
    },
    {
      "cell_type": "code",
      "source": [
        "# Average interval width\n",
        "\n",
        "# Coverage"
      ],
      "metadata": {
        "id": "W03KOMna4vQy"
      },
      "execution_count": 11,
      "outputs": []
    },
    {
      "cell_type": "markdown",
      "source": [
        "Plot prediction intervals for a subset of validation points and compare them to the true values."
      ],
      "metadata": {
        "id": "WYSFXM4jzvBs"
      }
    },
    {
      "cell_type": "code",
      "metadata": {
        "id": "GcHYGg4Ap8mH"
      },
      "source": [
        "# Create your plot here."
      ],
      "execution_count": 12,
      "outputs": []
    },
    {
      "cell_type": "markdown",
      "source": [
        "Plot the distribution of interval width over the validation set. What do you notice? Compare your results to the simple regression."
      ],
      "metadata": {
        "id": "p5LBcCokz8la"
      }
    },
    {
      "cell_type": "code",
      "metadata": {
        "id": "kADw8eN-21xf"
      },
      "source": [
        "# Create your plot here."
      ],
      "execution_count": 13,
      "outputs": []
    },
    {
      "cell_type": "markdown",
      "metadata": {
        "id": "RCPWaHZi7byB"
      },
      "source": [
        "## Discrete classification"
      ]
    },
    {
      "cell_type": "markdown",
      "source": [
        "Load the `wine` data from the skikit-learn package and split it into features $X$ and labels $Y$.\n",
        "\n",
        "For a documentation of the data, see: https://scikit-learn.org/stable/datasets/toy_dataset.html#wine-recognition-dataset."
      ],
      "metadata": {
        "id": "UoxX0AeUUr0D"
      }
    },
    {
      "cell_type": "code",
      "execution_count": 36,
      "metadata": {
        "id": "fdpr_8yW0lz2"
      },
      "outputs": [],
      "source": [
        "# Load the data and separate the data set into features X and outcomes y.\n",
        "\n",
        "# Import all necessary libraries here.\n",
        "import numpy as np\n",
        "import warnings\n",
        "import matplotlib.pyplot as plt\n",
        "\n",
        "from sklearn.model_selection import train_test_split, GridSearchCV\n",
        "\n",
        "from sklearn.preprocessing import StandardScaler # For normalizing regressors\n",
        "from sklearn.neighbors import KNeighborsClassifier\n",
        "from sklearn.linear_model import LogisticRegression, Ridge, QuantileRegressor"
      ]
    },
    {
      "cell_type": "code",
      "source": [
        "# Split the data into training, calibration, and validation.\n",
        "from sklearn.datasets import load_wine\n",
        "\n",
        "# Continuous outcomes, simple regression\n",
        "\n",
        "data_wine = load_wine()\n",
        "X = data_wine[\"data\"]\n",
        "X = StandardScaler().fit_transform(X)\n",
        "y = data_wine[\"target\"]\n",
        "\n",
        "X_train, X_test, y_train, y_test = train_test_split(X, y, test_size=0.4, random_state=42)\n",
        "X_cal, X_val, y_cal, y_val = train_test_split(X_test, y_test, test_size=0.5, random_state=42)"
      ],
      "metadata": {
        "id": "IJ103VwB0lz4"
      },
      "execution_count": 39,
      "outputs": []
    },
    {
      "cell_type": "markdown",
      "source": [
        "### Logistic regression"
      ],
      "metadata": {
        "id": "av1b34J0TGvG"
      }
    },
    {
      "cell_type": "markdown",
      "metadata": {
        "id": "K4uf7AW-7byC"
      },
      "source": [
        "Fit a penalized logistic regression model using scikit-learn’s `LogisticRegression` with L2 regularization. Use cross-validation on the training set to find the optimal penalty parameter $\\lambda$  that minimizes classification error.\n",
        "\n",
        "This will give the scores for _conformal inference_."
      ]
    },
    {
      "cell_type": "code",
      "execution_count": 44,
      "metadata": {
        "id": "rdzV2OBG0065",
        "colab": {
          "base_uri": "https://localhost:8080/",
          "height": 449
        },
        "outputId": "aa31554e-c33b-489f-d63e-25124dea064a"
      },
      "outputs": [
        {
          "output_type": "display_data",
          "data": {
            "text/plain": [
              "<Figure size 640x480 with 1 Axes>"
            ],
            "image/png": "[encoded data removed]"
          },
          "metadata": {}
        }
      ],
      "source": [
        "# Define the parameter range.\n",
        "model = LogisticRegression()\n",
        "model.fit(Xtrain, ytrain)\n",
        "y_predicted_test = model.predict(Xtest)\n",
        "accuracy_score(ytest, y_predicted_test)\n",
        "\n",
        "# Select the best model.\n",
        "mat = confusion_matrix(ytest, y_predicted_test)\n",
        "from seaborn import heatmap\n",
        "heatmap(mat, square=True, annot=True, cbar=False, cmap='Blues')\n",
        "plt.xlabel('Predicted value')\n",
        "plt.ylabel('True value');"
      ]
    },
    {
      "cell_type": "markdown",
      "source": [
        "Compute the predictions on calibration and validation data sets."
      ],
      "metadata": {
        "id": "xEhVekBf0066"
      }
    },
    {
      "cell_type": "code",
      "execution_count": 17,
      "metadata": {
        "id": "RKpcgUdM0067"
      },
      "outputs": [],
      "source": [
        "# Compute the predictions on calibration and validation data sets.\n",
        "# Make sure to store them for future reference."
      ]
    },
    {
      "cell_type": "markdown",
      "source": [
        "Compute the threshold as the quantile of the calibration scores. Then obtain the prediction sets for the validation data."
      ],
      "metadata": {
        "id": "R2wB1SPUZ4U9"
      }
    },
    {
      "cell_type": "code",
      "execution_count": 18,
      "metadata": {
        "id": "_AxaiPS81EMV"
      },
      "outputs": [],
      "source": [
        "# Compute the thresholds.\n",
        "# Then use the thresholds to obtain the prediction sets for the validation data."
      ]
    },
    {
      "cell_type": "code",
      "metadata": {
        "id": "bG3QKblw1EMW"
      },
      "source": [
        "# Print the shape and the first few entries of the prediction sets to check your work."
      ],
      "execution_count": 19,
      "outputs": []
    },
    {
      "cell_type": "markdown",
      "source": [
        "Evaluate the method on the validation data set by computing:\n",
        "- average set size (mean\n",
        "number of labels in the prediction sets)\n",
        "- coverage (fraction\n",
        "of test points where the true label is in the prediction set)\n",
        "- conditional coverage (coverage rates\n",
        "for each true class): Is the coverage at least 90% for each type of wine?"
      ],
      "metadata": {
        "id": "zjiNY7dFsK40"
      }
    },
    {
      "cell_type": "code",
      "source": [
        "# Average set size\n",
        "\n",
        "# Coverage: is y_val[i] contained in confidencesets_classification[i]?\n",
        "\n",
        "# Conditional coverage\n"
      ],
      "metadata": {
        "id": "yOJK7PFwsRnq"
      },
      "execution_count": 20,
      "outputs": []
    },
    {
      "cell_type": "markdown",
      "source": [
        "### k-Nearest Neighbours"
      ],
      "metadata": {
        "id": "O6Em63TuS4_s"
      }
    },
    {
      "cell_type": "markdown",
      "source": [
        "Repeat the conformal inference procedure from the previous problem, but replace the\n",
        "penalized logistic regression with **k-nearest neighbors classification**. Use cross-validation on the training set to select the optimal number of neighbors $k$. Use the same conformity score definition as in the previous problem. Compare the coverage and efficiency (average prediction set size) with the logistic regression results, and discuss any differences in performance between the two methods."
      ],
      "metadata": {
        "id": "sQiVbfmj0oDP"
      }
    },
    {
      "cell_type": "code",
      "execution_count": 49,
      "metadata": {
        "id": "0VinvJQf1bJE",
        "colab": {
          "base_uri": "https://localhost:8080/"
        },
        "outputId": "ae30ad7d-a4d1-4dc4-f8b9-f06d40565acf"
      },
      "outputs": [
        {
          "output_type": "stream",
          "name": "stdout",
          "text": [
            "{'n_neighbors': np.int64(15)}\n"
          ]
        }
      ],
      "source": [
        "# Define the parameter range.\n",
        "# Run a grid search with cross-validation.\n",
        "# Select the best model.\n",
        "# Perform a grid search with cross-validation to select the optimal number of neighbours.\n",
        "# Import all necessary libraries here.\n",
        "import numpy as np\n",
        "import warnings\n",
        "import matplotlib.pyplot as plt\n",
        "\n",
        "from sklearn.model_selection import train_test_split, GridSearchCV\n",
        "\n",
        "from sklearn.preprocessing import StandardScaler # For normalizing regressors\n",
        "from sklearn.neighbors import KNeighborsClassifier\n",
        "from sklearn.linear_model import LogisticRegression, Ridge, QuantileRegressor\n",
        "\n",
        "# Import the wine and california_housing data sets from sklearn.datasets.\n",
        "from sklearn.datasets import load_wine, fetch_california_housing\n",
        "\n",
        "data2 = load_wine()\n",
        "X = data2[\"data\"]\n",
        "X = StandardScaler().fit_transform(X)\n",
        "y = data2[\"target\"]\n",
        "\n",
        "# Split into train and test set.\n",
        "X_train, X_test, y_train, y_test = train_test_split(X, y, test_size=0.4, random_state=42)\n",
        "# Split the test set into calibration and validation.\n",
        "X_cal, X_val, y_cal, y_val = train_test_split(X_test, y_test, test_size=0.5, random_state=42)\n",
        "\n",
        "\n",
        "# kNN\n",
        "\n",
        "# Perform a grid search with cross-validation to select the optimal number of neighbours.\n",
        "k_range = np.arange(1, 50)\n",
        "kNN_cv = GridSearchCV(KNeighborsClassifier(), {'n_neighbors': k_range}, cv=10, scoring=\"accuracy\")\n",
        "with warnings.catch_warnings(): # Suppress output of warnings\n",
        "    warnings.simplefilter(\"ignore\")\n",
        "    kNN_cv.fit(X_train, y_train)\n",
        "print(kNN_cv.best_params_)\n",
        "bestkNN = kNN_cv.best_estimator_\n",
        "\n",
        "y_calproba = bestkNN.predict_proba(X_cal) # proba returns the probability estimates for each class rather than just the predicted class label\n",
        "y_valproba = bestkNN.predict_proba(X_val)"
      ]
    },
    {
      "cell_type": "markdown",
      "source": [
        "Compute the predictions on calibration and validation data sets."
      ],
      "metadata": {
        "id": "LxEtYJq91bJF"
      }
    },
    {
      "cell_type": "code",
      "execution_count": 22,
      "metadata": {
        "id": "wiOA3jw_1bJG"
      },
      "outputs": [],
      "source": [
        "# Compute the predictions on calibration and validation data sets.\n",
        "# Make sure to store them for future reference."
      ]
    },
    {
      "cell_type": "markdown",
      "source": [
        "Compute the threshold as the quantile of the calibration scores. Then obtain the prediction sets for the validation data."
      ],
      "metadata": {
        "id": "YM7Jx_4y1bJG"
      }
    },
    {
      "cell_type": "code",
      "execution_count": 23,
      "metadata": {
        "id": "LhDMJDpE1bJG"
      },
      "outputs": [],
      "source": [
        "# Compute the thresholds.\n",
        "# Then use the thresholds to obtain the prediction sets for the validation data."
      ]
    },
    {
      "cell_type": "code",
      "metadata": {
        "id": "1ZjRdU4V1bJH"
      },
      "source": [
        "# Print the shape and the first few entries of the prediction sets to check your work."
      ],
      "execution_count": 24,
      "outputs": []
    },
    {
      "cell_type": "markdown",
      "source": [
        "Evaluate the method on the validation data set by computing:\n",
        "- average set size (mean\n",
        "number of labels in the prediction sets)\n",
        "- coverage (fraction\n",
        "of test points where the true label is in the prediction set)\n",
        "- conditional coverage (coverage rates\n",
        "for each true class): Is the coverage at least 90% for each type of wine?"
      ],
      "metadata": {
        "id": "1iRymW7p1bJH"
      }
    },
    {
      "cell_type": "code",
      "source": [
        "# Average set size\n",
        "\n",
        "# Coverage: is y_val[i] contained in confidencesets_classification[i]?\n",
        "\n",
        "# Conditional coverage"
      ],
      "metadata": {
        "id": "51yyZyzQ1bJH"
      },
      "execution_count": 25,
      "outputs": []
    },
    {
      "cell_type": "markdown",
      "source": [
        "Compare your results to the Logistic Regression model. What do you notice?"
      ],
      "metadata": {
        "id": "pCkwtrS61iAW"
      }
    }
  ],
  "metadata": {
    "kernelspec": {
      "display_name": "Python 3 (ipykernel)",
      "language": "python",
      "name": "python3"
    },
    "language_info": {
      "codemirror_mode": {
        "name": "ipython",
        "version": 3
      },
      "file_extension": ".py",
      "mimetype": "text/x-python",
      "name": "python",
      "nbconvert_exporter": "python",
      "pygments_lexer": "ipython3",
      "version": "3.12.2"
    },
    "colab": {
      "provenance": [],
      "collapsed_sections": [
        "DSqQzSVrQH0v",
        "YZ4XOM7eunHz",
        "L9ntVH3z7byD"
      ],
      "include_colab_link": true
    }
  },
  "nbformat": 4,
  "nbformat_minor": 0
}