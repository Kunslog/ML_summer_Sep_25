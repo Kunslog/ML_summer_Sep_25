{
  "cells": [
    {
      "cell_type": "markdown",
      "metadata": {
        "id": "view-in-github",
        "colab_type": "text"
      },
      "source": [
        "<a href=\"https://colab.research.google.com/github/Kunslog/ML_summer_Sep_25/blob/main/template_conformal_inference2.ipynb\" target=\"_parent\"><img src=\"https://colab.research.google.com/assets/colab-badge.svg\" alt=\"Open In Colab\"/></a>"
      ]
    },
    {
      "cell_type": "markdown",
      "source": [
        "# #2 Conformal inference\n",
        "\n",
        "**Oxford University Economics Summer School 2025, Foundations of Machine Learning**\n",
        "\n",
        "*Johanna Barop, 2025*\n",
        "\n",
        "This is the soultion template for the second problem set for the *Foundations of Machine Learning* course at the **Oxford University Economics Summer School 2025**.\n"
      ],
      "metadata": {
        "id": "DSqQzSVrQH0v"
      }
    },
    {
      "cell_type": "markdown",
      "source": [
        "In this problem, you are asked to implement and evaluate some **conformal inference** procedures in Python. This problem builds on the first coding exercise, using Scikit-learn.\n",
        "\n",
        "You may want to consult [Angelopoulos, A. N. and Bates, S. (2021)](https://arxiv.org/pdf/2107.07511), \"A gentle introduction to conformal prediction and distribution-free uncertainty quantification\"."
      ],
      "metadata": {
        "id": "M25VblaKU4ff"
      }
    },
    {
      "cell_type": "markdown",
      "source": [
        "# Conformal inference\n",
        "Conformal inference is a method of uncertainty prediction. Normally we predict outcomes. Now, we will predict a _set_ that is guaranteed to contain the correct outcome in at least $(1-\\alpha)$% of cases.\n",
        "\n",
        "\n",
        "\n",
        "\n",
        "\n"
      ],
      "metadata": {
        "id": "TPeP8fvkhn3_"
      }
    },
    {
      "cell_type": "markdown",
      "source": [
        "## How does conformal inference work intuitively?"
      ],
      "metadata": {
        "id": "YZ4XOM7eunHz"
      }
    },
    {
      "cell_type": "markdown",
      "source": [
        "The **goal** of conformal inference is uncertainty quantification through generating _prediction sets_.\n",
        "\n",
        "![prediction-set-example.jpg](https://drive.google.com/uc?export=view&id=178JhIp_t4JkeToHP4x-q7frFGd4re_DN)\n",
        "\n",
        "Figure taken from: Angelopoulos, A. N. and Bates, S. (2021). A gentle introduction to conformal prediction and distribution-free uncertainty quantification. arXiv preprint arXiv:2107.07511.\n",
        "\n",
        "All other figures are taken from the same paper."
      ],
      "metadata": {
        "id": "TE5ezZyYlOw6"
      }
    },
    {
      "cell_type": "markdown",
      "source": [
        "**Conformal inference recipe**\n",
        "\n",
        "1. Train your model.\n",
        "2. For each point $(x_i, y_i)$ in\n",
        "the calibration set, compute the conformity score $s(x_i, y_i)$.\n",
        "3. For a desired confidence\n",
        "level $(1-\\alpha)$ (e.g., $\\alpha$ = 0.1 for 90% confidence), find the $\\frac{(1 − \\alpha)(n + 1)}{n}$-th quantile of\n",
        "the calibration scores, where $n$ is the size of the calibration set.\n",
        "4. For each test point $x$, construct the prediction set $C(x) = \\{y : s(x, y) ≥ \\text{quantile}\\}$.\n",
        "\n",
        "![illustration-conformal-inference.jpg](https://drive.google.com/uc?export=view&id=1tQJFM3JmzES1uYZrmlj-3m6btuXTX0_6)"
      ],
      "metadata": {
        "id": "71M96DmkpNpW"
      }
    },
    {
      "cell_type": "markdown",
      "source": [
        "## How will we implement conformal inference?"
      ],
      "metadata": {
        "id": "2AO8RAxXvMnU"
      }
    },
    {
      "cell_type": "markdown",
      "source": [
        "Conformal inference works for continuous and discrete data, and we will study **examples** of\n",
        "- continuous outcome regression\n",
        "- quantile regression\n",
        "- discrete classification.\n",
        "\n",
        "For each of these examples, we'll follow the following **steps**:\n",
        "1. Load the data sets and split them into training, calibration, and test set. Train the predictors.\n",
        "2. Compute _scores_ and _confidence sets_.\n",
        "3. Summarise our results. We'll compute coverage rates, interval widths (regression) or prediction set sizes (classification), and visualise the prediction sets for selected examples.\n",
        "4. Discuss strengths and limitations of the approach and compare results across different methods and data sets.\n",
        "\n",
        "We'll work on steps 1 and 2 today and then finish the problem set up tomorrow."
      ],
      "metadata": {
        "id": "IFd8QZOVTzvG"
      }
    },
    {
      "cell_type": "markdown",
      "source": [
        "# Setup"
      ],
      "metadata": {
        "id": "JpnjrFFfQVO7"
      }
    },
    {
      "cell_type": "markdown",
      "source": [
        "Load libraries and data sets - it's good practice to do this at the top of your script."
      ],
      "metadata": {
        "id": "MKQHVe6slmzz"
      }
    },
    {
      "cell_type": "code",
      "execution_count": 15,
      "metadata": {
        "id": "DnNnh5Lw7bx7"
      },
      "outputs": [],
      "source": [
        "# Import all necessary libraries here.\n",
        "import numpy as np\n",
        "import warnings\n",
        "import matplotlib.pyplot as plt\n",
        "\n",
        "from sklearn.model_selection import train_test_split, GridSearchCV\n",
        "\n",
        "from sklearn.preprocessing import StandardScaler # For normalizing regressors\n",
        "from sklearn.neighbors import KNeighborsClassifier\n",
        "from sklearn.linear_model import LogisticRegression, Ridge, QuantileRegressor\n",
        "\n",
        "# Import the wine and california_housing data sets from sklearn.datasets.\n",
        "from sklearn.datasets import load_wine, fetch_california_housing"
      ]
    },
    {
      "cell_type": "markdown",
      "metadata": {
        "id": "RPyGdErC7bx8"
      },
      "source": [
        "# Define functions to calculate scores and confidence sets"
      ]
    },
    {
      "cell_type": "markdown",
      "source": [
        "We'll define functions at the top because that's best practice. Fill in these functions as you work on the examples!"
      ],
      "metadata": {
        "id": "TdqHTSC8j6NK"
      }
    },
    {
      "cell_type": "markdown",
      "metadata": {
        "id": "5cV5daZD7bx9"
      },
      "source": [
        "First, define the helper function `alphatilde(alpha, n)` for rounding the size cutoff appropriately. It computes\n",
        "$$\n",
        "\\tilde\\alpha = 1-\\frac{\\lceil(n+1)(1-\\alpha)\\rceil}{n}\n",
        "$$"
      ]
    },
    {
      "cell_type": "code",
      "execution_count": 24,
      "metadata": {
        "id": "LqnFhuy57bx-"
      },
      "outputs": [],
      "source": [
        "# Define alphatilde().\n",
        "def alphatilde(alpha, n):\n",
        "  return np.ceil((n+1)*(1-alpha))/n"
      ]
    },
    {
      "cell_type": "markdown",
      "source": [
        "Next define functions to compute the score thresholds and prediction sets for continuous regression, quantile regression, and discrete classification."
      ],
      "metadata": {
        "id": "cztRCL5Hbbc7"
      }
    },
    {
      "cell_type": "markdown",
      "metadata": {
        "id": "gO0wRtJO7bx_"
      },
      "source": [
        "### Continuous outcomes, simple score"
      ]
    },
    {
      "cell_type": "markdown",
      "source": [
        "Define the conformity score as:\n",
        "$$\n",
        "s(x, y) = |y − \\hat f(x)|\n",
        "$$\n",
        "where $\\hat f(x)$ is the predicted value from the ridge regression model."
      ],
      "metadata": {
        "id": "oi51NTdT1jJv"
      }
    },
    {
      "cell_type": "markdown",
      "source": [
        "For evaluation, construct prediction intervals $[\\hat f(x) − q, \\hat f(x) + q]$ where $q$ is the appropriate quantile of calibration residuals."
      ],
      "metadata": {
        "id": "fq0Wo2IE120M"
      }
    },
    {
      "cell_type": "markdown",
      "metadata": {
        "id": "E1-G7R_g7byA"
      },
      "source": [
        "### Quantile regression"
      ]
    },
    {
      "cell_type": "markdown",
      "source": [
        "Quantile regression estimates conditional quantiles of the outcome variable. If we construct an interval $[t_{\\alpha/2}(x), t_{1-\\alpha/2}(x)]$ with quantile regression, we would expect it to have approximately 90% coverage. So why do we add conformal inference to quantile regression?"
      ],
      "metadata": {
        "id": "MrtdkZjS_I62"
      }
    },
    {
      "cell_type": "markdown",
      "source": [
        "Define the conformity score as:\n",
        "$$\n",
        "s(x, y) = \\max(t_{\\alpha/2}(x)− y, y − t_{1-\\alpha/2}(x))\n",
        "$$\n",
        "\n",
        "where $t_{\\alpha/2}(x)$ and $t_{1-\\alpha/2}(x)$ are the predicted quantiles.\n",
        "\n",
        "The conformity score measures how far the true value $y$ falls outside the predicted quantile interval, with negative scores indicating the point lies within the predicted interval."
      ],
      "metadata": {
        "id": "5NY-2lDv2o-n"
      }
    },
    {
      "cell_type": "markdown",
      "source": [
        "Intuitively, $\\hat q$ grows or shrinks the distance between the quantiles to achieve coverage:\n",
        "\n",
        "![quantile-regression-illustration.jpg](https://drive.google.com/uc?export=view&id=1yl2-RCoPlPBfmaGYDc6WnRDlhtMZSmsv)"
      ],
      "metadata": {
        "id": "kOFNhYF_w3-h"
      }
    },
    {
      "cell_type": "markdown",
      "metadata": {
        "id": "nw8hR9EI7bx-"
      },
      "source": [
        "### Discrete classification"
      ]
    },
    {
      "cell_type": "markdown",
      "source": [
        "Define the conformity score as:\n",
        "\n",
        "$$\n",
        "s(x,y) = \\sum_{y \\prime} \\mathbb{1} ( j(y|x) \\ge  j(y^\\prime|x ) ) \\cdot \\hat f(y|x)\n",
        "$$\n",
        "\n",
        "where $\\mathbb{1}(\\cdot)$ is the indicator function. $\\hat f(y|x)$ represents the predicted probability of class $y$ given features $x$. $j(y, x)$ is the rank of $\\hat f(y|x)$  across all possible labels $y$.\n",
        "\n",
        "![prediction-sets-classification.jpg](https://drive.google.com/uc?export=view&id=1I0fMj-uZEkL5l7cT6U7WrgYn942o0_T0)"
      ],
      "metadata": {
        "id": "tZxraYSWprRN"
      }
    },
    {
      "cell_type": "markdown",
      "metadata": {
        "id": "SpXEt5eA7byB"
      },
      "source": [
        "# Empirical examples"
      ]
    },
    {
      "cell_type": "markdown",
      "metadata": {
        "id": "EZPR88LO7byC"
      },
      "source": [
        "## Continuous regression"
      ]
    },
    {
      "cell_type": "markdown",
      "source": [
        "Load the `california_housing` data and split it into features X and labels Y.\n",
        "\n",
        "\n",
        "\n",
        "For a documentation of the data, see: https://scikit-learn.org/stable/datasets/real_world.html#california-housing-dataset"
      ],
      "metadata": {
        "id": "cHddrddgcQpY"
      }
    },
    {
      "cell_type": "markdown",
      "metadata": {
        "id": "7u1Flf9zSiMS"
      },
      "source": [
        "Split the data into three subsets:\n",
        "- a **training set** (60%) for initial model fitting,\n",
        "- a **calibaration set** (20%) used for conformal inference calibration,\n",
        "- and a **validation set** (20%) for final evaluation."
      ]
    },
    {
      "cell_type": "code",
      "execution_count": 16,
      "metadata": {
        "id": "iejHj8HD7byD"
      },
      "outputs": [],
      "source": [
        "# Load the data and separate the data set into features X and outcomes y.\n",
        "data1 = fetch_california_housing()\n",
        "X = data1[\"data\"]\n",
        "X = StandardScaler().fit_transform(X)\n",
        "y = data1[\"target\"]"
      ]
    },
    {
      "cell_type": "code",
      "source": [
        "# Split the data into training, calibration, and validation.\n",
        "# Hint: Do this in two steps using train_test_split().\n",
        "X_train, X_test, y_train, y_test = train_test_split(X, y, test_size=0.4, random_state=42)\n",
        "X_cal, X_val, y_cal, y_val = train_test_split(X_test, y_test, test_size=0.5, random_state=42)"
      ],
      "metadata": {
        "id": "lUZQ3EabwpiK"
      },
      "execution_count": 17,
      "outputs": []
    },
    {
      "cell_type": "markdown",
      "source": [
        "Implement a _ridge regression_ with penalty parameter selected via cross-validation. Use cross-validation on the training set to find the optimal penalty parameter. (See the \"Supervised Learning\" PS for guidance.)"
      ],
      "metadata": {
        "id": "0eSlPRHHcAlo"
      }
    },
    {
      "cell_type": "code",
      "execution_count": 18,
      "metadata": {
        "id": "kPncvnr-7byD"
      },
      "outputs": [],
      "source": [
        "# Define the parameter range.\n",
        "alpha_values = np.logspace(-3, 3, 20)\n",
        "\n",
        "# Run a grid search with cross-validation.\n",
        "ridge_cv = GridSearchCV(Ridge(), {'alpha': alpha_values}, cv=10)\n",
        "with warnings.catch_warnings(): # Suppress output of warnings\n",
        "    warnings.simplefilter(\"ignore\")\n",
        "    ridge_cv.fit(X_train, y_train)\n",
        "\n",
        "# Select the best model.\n",
        "bestmodel = ridge_cv.best_estimator_"
      ]
    },
    {
      "cell_type": "markdown",
      "source": [
        "Compute the predictions on calibration and validation data sets."
      ],
      "metadata": {
        "id": "UWb4CsKDcv3y"
      }
    },
    {
      "cell_type": "code",
      "execution_count": 19,
      "metadata": {
        "id": "-yMg7xX57byD"
      },
      "outputs": [],
      "source": [
        "# Compute the predictions on calibration and validation data sets.\n",
        "# Make sure to store them for future reference.\n",
        "y_calhat = bestmodel.predict(X_cal)\n",
        "y_valhat = bestmodel.predict(X_val)"
      ]
    },
    {
      "cell_type": "markdown",
      "source": [
        "Compute the threshold as the quantile of the calibration scores. Then obtain the prediction sets for the validation data."
      ],
      "metadata": {
        "id": "Y62syklLdF6e"
      }
    },
    {
      "cell_type": "code",
      "execution_count": 25,
      "metadata": {
        "id": "0OJNwPT07byD"
      },
      "outputs": [],
      "source": [
        "# Compute the scores.\n",
        "# (where does the calibration scores come from: the absolute difference)\n",
        "# calibration data set: y - yhat\n",
        "\n",
        "# define a function computing the cutoff q hat for\n",
        "def continuous_score_cutoff(y, yhat, alpha = .1):\n",
        "    n = y.size\n",
        "    cal_scores = np.abs(y - yhat)\n",
        "    return  np.quantile(cal_scores, alphatilde(alpha, n))\n",
        "\n",
        "# Compute the threshold q_hat based on scores and alphatilde().\n",
        "cutoff = continuous_score_cutoff(y_cal, y_calhat)\n"
      ]
    },
    {
      "cell_type": "code",
      "source": [
        "# Then use the threshold to obtain the prediction sets for the validation data.\n",
        "\n",
        "# Prediction sets for validation data: [y_valhat - cutoff, y_valhat + cutoff]\n",
        "prediction_sets_val = np.array([y_valhat - cutoff, y_valhat + cutoff]).T\n",
        "\n",
        "\n"
      ],
      "metadata": {
        "id": "gVk-KVAB8qku"
      },
      "execution_count": 28,
      "outputs": []
    },
    {
      "cell_type": "code",
      "metadata": {
        "id": "aafdd172",
        "colab": {
          "base_uri": "https://localhost:8080/"
        },
        "outputId": "35da0985-1dd3-4c34-92e9-53528a99b58f"
      },
      "source": [
        "# Print the shape and the first few entries of the prediction sets to check your work.\n",
        "\n",
        "print(\"Shape of prediction sets:\", prediction_sets_val.shape)\n",
        "print(\"First 5 entries of prediction sets:\\n\", prediction_sets_val[:5])"
      ],
      "execution_count": 29,
      "outputs": [
        {
          "output_type": "stream",
          "name": "stdout",
          "text": [
            "Shape of prediction sets: (4128, 2)\n",
            "First 5 entries of prediction sets:\n",
            " [[ 0.83700263  3.07265437]\n",
            " [-0.40571951  1.82993222]\n",
            " [ 1.27247893  3.50813066]\n",
            " [ 0.7198914   2.95554314]\n",
            " [ 0.1460148   2.38166654]]\n"
          ]
        }
      ]
    },
    {
      "cell_type": "markdown",
      "source": [
        "Calculate the average interval width and compute empirical coverage on the validation data."
      ],
      "metadata": {
        "id": "50u-CXtp0-CS"
      }
    },
    {
      "cell_type": "code",
      "source": [
        "# Average interval width\n",
        "# The interval width is the difference between the upper and lower bounds of the prediction set.\n",
        "\n",
        "interval_widths = prediction_sets_val[:, 1] - prediction_sets_val[:, 0]\n",
        "average_width = np.mean(interval_widths)\n",
        "print(f\"Average interval width: {average_width:.4f}\")\n",
        "# f\"\": f-string to embed the value of variables directly within a string\n",
        "# .4f four digits\n",
        "\n",
        "n_val = confidencesets_simple.shape[0]\n",
        "average_interval_width_simple = sum((confidencesets_simple[i][1] - confidencesets_simple[i][0])for i in range(n_val)) /n_val\n",
        "print(\"Average interval width:\", average_interval_width_simple)\n",
        "print(\"\\nContinuous Regression Confidence Sets Shape:\", confidencesets_simple.shape)\n",
        "print(\"Continuous Regression Confidence Sets (first 5):\")\n",
        "print(confidencesets_simple[:5])\n",
        "\n",
        "# Coverage\n",
        "coverage_simple = sum((y_val[i] >= confidencesets_simple[i][0] and y_val[i] <= confidencesets_simple[i][1]) for i in range(n_val)) /n_val\n",
        "print(\"Coverage:\", coverage_simple)\n"
      ],
      "metadata": {
        "id": "zXnkjB0j4xTK",
        "colab": {
          "base_uri": "https://localhost:8080/",
          "height": 250
        },
        "outputId": "63662ebb-deaa-4c67-ef27-e51ecf527c3d"
      },
      "execution_count": 34,
      "outputs": [
        {
          "output_type": "stream",
          "name": "stdout",
          "text": [
            "Average interval width: 2.2357\n"
          ]
        },
        {
          "output_type": "error",
          "ename": "NameError",
          "evalue": "name 'confidencesets_simple' is not defined",
          "traceback": [
            "\u001b[0;31m---------------------------------------------------------------------------\u001b[0m",
            "\u001b[0;31mNameError\u001b[0m                                 Traceback (most recent call last)",
            "\u001b[0;32m/tmp/ipython-input-2102047849.py\u001b[0m in \u001b[0;36m<cell line: 0>\u001b[0;34m()\u001b[0m\n\u001b[1;32m      8\u001b[0m \u001b[0;31m# .4f four digits\u001b[0m\u001b[0;34m\u001b[0m\u001b[0;34m\u001b[0m\u001b[0m\n\u001b[1;32m      9\u001b[0m \u001b[0;34m\u001b[0m\u001b[0m\n\u001b[0;32m---> 10\u001b[0;31m \u001b[0mn_val\u001b[0m \u001b[0;34m=\u001b[0m \u001b[0mconfidencesets_simple\u001b[0m\u001b[0;34m.\u001b[0m\u001b[0mshape\u001b[0m\u001b[0;34m[\u001b[0m\u001b[0;36m0\u001b[0m\u001b[0;34m]\u001b[0m\u001b[0;34m\u001b[0m\u001b[0;34m\u001b[0m\u001b[0m\n\u001b[0m\u001b[1;32m     11\u001b[0m \u001b[0maverage_interval_width_simple\u001b[0m \u001b[0;34m=\u001b[0m \u001b[0msum\u001b[0m\u001b[0;34m(\u001b[0m\u001b[0;34m(\u001b[0m\u001b[0mconfidencesets_simple\u001b[0m\u001b[0;34m[\u001b[0m\u001b[0mi\u001b[0m\u001b[0;34m]\u001b[0m\u001b[0;34m[\u001b[0m\u001b[0;36m1\u001b[0m\u001b[0;34m]\u001b[0m \u001b[0;34m-\u001b[0m \u001b[0mconfidencesets_simple\u001b[0m\u001b[0;34m[\u001b[0m\u001b[0mi\u001b[0m\u001b[0;34m]\u001b[0m\u001b[0;34m[\u001b[0m\u001b[0;36m0\u001b[0m\u001b[0;34m]\u001b[0m\u001b[0;34m)\u001b[0m\u001b[0;32mfor\u001b[0m \u001b[0mi\u001b[0m \u001b[0;32min\u001b[0m \u001b[0mrange\u001b[0m\u001b[0;34m(\u001b[0m\u001b[0mn_val\u001b[0m\u001b[0;34m)\u001b[0m\u001b[0;34m)\u001b[0m \u001b[0;34m/\u001b[0m\u001b[0mn_val\u001b[0m\u001b[0;34m\u001b[0m\u001b[0;34m\u001b[0m\u001b[0m\n\u001b[1;32m     12\u001b[0m \u001b[0mprint\u001b[0m\u001b[0;34m(\u001b[0m\u001b[0;34m\"Average interval width:\"\u001b[0m\u001b[0;34m,\u001b[0m \u001b[0maverage_interval_width_simple\u001b[0m\u001b[0;34m)\u001b[0m\u001b[0;34m\u001b[0m\u001b[0;34m\u001b[0m\u001b[0m\n",
            "\u001b[0;31mNameError\u001b[0m: name 'confidencesets_simple' is not defined"
          ]
        }
      ]
    },
    {
      "cell_type": "markdown",
      "source": [
        "**What do set sizes tell us?**\n",
        "\n",
        "- **Set size:**\n",
        "- **Spread of set size** (i.e., some sets are small, others are large):"
      ],
      "metadata": {
        "id": "0tu8Tq7G1E_a"
      }
    },
    {
      "cell_type": "markdown",
      "source": [
        "1. we want smaller intervals (better prediction)\n",
        "2. shorter interval length, better prediction"
      ],
      "metadata": {
        "id": "f3K7iAgzZj6g"
      }
    },
    {
      "cell_type": "markdown",
      "source": [],
      "metadata": {
        "id": "gXiByfKHZj0O"
      }
    },
    {
      "cell_type": "markdown",
      "source": [
        "Plot prediction intervals for a subset of validation points and compare them to the true values."
      ],
      "metadata": {
        "id": "8zE4T0uzlnF5"
      }
    },
    {
      "cell_type": "code",
      "metadata": {
        "id": "Khvi4TGk2YiV"
      },
      "source": [
        "# Create your plot here to visualise your work. Hint: Use matplotlib.pyplot.scatter() and matplotlib.pyplot.plot()"
      ],
      "execution_count": 7,
      "outputs": []
    },
    {
      "cell_type": "markdown",
      "source": [
        "Plot the distribution of interval width over the validation set. What do you notice?"
      ],
      "metadata": {
        "id": "DcDdPsH5yIW5"
      }
    },
    {
      "cell_type": "code",
      "source": [
        "# Create your plot here. Hint: Use matplotlib.pyplot.hist()"
      ],
      "metadata": {
        "id": "Xsv-0ei1vA5Z"
      },
      "execution_count": 8,
      "outputs": []
    },
    {
      "cell_type": "markdown",
      "metadata": {
        "id": "L9ntVH3z7byD"
      },
      "source": [
        "## Quantile regression"
      ]
    },
    {
      "cell_type": "markdown",
      "source": [
        "Continue using the `california_housing` data."
      ],
      "metadata": {
        "id": "gf0Qq2XtdMhi"
      }
    },
    {
      "cell_type": "markdown",
      "metadata": {
        "id": "RMnUAL5A7byE"
      },
      "source": [
        "Fit quantile regression models for quantiles $\\tau_{\\alpha/2}$ and $\\tau_{1-\\alpha/2}$ (e.g., 0.05 and 0.95 for $\\alpha$ = 0.1). For simplicity, use fixed L1 regularisation and no tuning.\n",
        "Note that you can use scikit-learn’s `QuantileRegressor`."
      ]
    },
    {
      "cell_type": "code",
      "execution_count": 35,
      "metadata": {
        "id": "rA136BlK7byE",
        "colab": {
          "base_uri": "https://localhost:8080/",
          "height": 80
        },
        "outputId": "25f66cb6-9857-478d-c448-fdf60bb90f33"
      },
      "outputs": [
        {
          "output_type": "execute_result",
          "data": {
            "text/plain": [
              "QuantileRegressor(alpha=0.01, quantile=0.95)"
            ],
            "text/html": [
              "<style>#sk-container-id-1 {\n",
              "  /* Definition of color scheme common for light and dark mode */\n",
              "  --sklearn-color-text: #000;\n",
              "  --sklearn-color-text-muted: #666;\n",
              "  --sklearn-color-line: gray;\n",
              "  /* Definition of color scheme for unfitted estimators */\n",
              "  --sklearn-color-unfitted-level-0: #fff5e6;\n",
              "  --sklearn-color-unfitted-level-1: #f6e4d2;\n",
              "  --sklearn-color-unfitted-level-2: #ffe0b3;\n",
              "  --sklearn-color-unfitted-level-3: chocolate;\n",
              "  /* Definition of color scheme for fitted estimators */\n",
              "  --sklearn-color-fitted-level-0: #f0f8ff;\n",
              "  --sklearn-color-fitted-level-1: #d4ebff;\n",
              "  --sklearn-color-fitted-level-2: #b3dbfd;\n",
              "  --sklearn-color-fitted-level-3: cornflowerblue;\n",
              "\n",
              "  /* Specific color for light theme */\n",
              "  --sklearn-color-text-on-default-background: var(--sg-text-color, var(--theme-code-foreground, var(--jp-content-font-color1, black)));\n",
              "  --sklearn-color-background: var(--sg-background-color, var(--theme-background, var(--jp-layout-color0, white)));\n",
              "  --sklearn-color-border-box: var(--sg-text-color, var(--theme-code-foreground, var(--jp-content-font-color1, black)));\n",
              "  --sklearn-color-icon: #696969;\n",
              "\n",
              "  @media (prefers-color-scheme: dark) {\n",
              "    /* Redefinition of color scheme for dark theme */\n",
              "    --sklearn-color-text-on-default-background: var(--sg-text-color, var(--theme-code-foreground, var(--jp-content-font-color1, white)));\n",
              "    --sklearn-color-background: var(--sg-background-color, var(--theme-background, var(--jp-layout-color0, #111)));\n",
              "    --sklearn-color-border-box: var(--sg-text-color, var(--theme-code-foreground, var(--jp-content-font-color1, white)));\n",
              "    --sklearn-color-icon: #878787;\n",
              "  }\n",
              "}\n",
              "\n",
              "#sk-container-id-1 {\n",
              "  color: var(--sklearn-color-text);\n",
              "}\n",
              "\n",
              "#sk-container-id-1 pre {\n",
              "  padding: 0;\n",
              "}\n",
              "\n",
              "#sk-container-id-1 input.sk-hidden--visually {\n",
              "  border: 0;\n",
              "  clip: rect(1px 1px 1px 1px);\n",
              "  clip: rect(1px, 1px, 1px, 1px);\n",
              "  height: 1px;\n",
              "  margin: -1px;\n",
              "  overflow: hidden;\n",
              "  padding: 0;\n",
              "  position: absolute;\n",
              "  width: 1px;\n",
              "}\n",
              "\n",
              "#sk-container-id-1 div.sk-dashed-wrapped {\n",
              "  border: 1px dashed var(--sklearn-color-line);\n",
              "  margin: 0 0.4em 0.5em 0.4em;\n",
              "  box-sizing: border-box;\n",
              "  padding-bottom: 0.4em;\n",
              "  background-color: var(--sklearn-color-background);\n",
              "}\n",
              "\n",
              "#sk-container-id-1 div.sk-container {\n",
              "  /* jupyter's `normalize.less` sets `[hidden] { display: none; }`\n",
              "     but bootstrap.min.css set `[hidden] { display: none !important; }`\n",
              "     so we also need the `!important` here to be able to override the\n",
              "     default hidden behavior on the sphinx rendered scikit-learn.org.\n",
              "     See: https://github.com/scikit-learn/scikit-learn/issues/21755 */\n",
              "  display: inline-block !important;\n",
              "  position: relative;\n",
              "}\n",
              "\n",
              "#sk-container-id-1 div.sk-text-repr-fallback {\n",
              "  display: none;\n",
              "}\n",
              "\n",
              "div.sk-parallel-item,\n",
              "div.sk-serial,\n",
              "div.sk-item {\n",
              "  /* draw centered vertical line to link estimators */\n",
              "  background-image: linear-gradient(var(--sklearn-color-text-on-default-background), var(--sklearn-color-text-on-default-background));\n",
              "  background-size: 2px 100%;\n",
              "  background-repeat: no-repeat;\n",
              "  background-position: center center;\n",
              "}\n",
              "\n",
              "/* Parallel-specific style estimator block */\n",
              "\n",
              "#sk-container-id-1 div.sk-parallel-item::after {\n",
              "  content: \"\";\n",
              "  width: 100%;\n",
              "  border-bottom: 2px solid var(--sklearn-color-text-on-default-background);\n",
              "  flex-grow: 1;\n",
              "}\n",
              "\n",
              "#sk-container-id-1 div.sk-parallel {\n",
              "  display: flex;\n",
              "  align-items: stretch;\n",
              "  justify-content: center;\n",
              "  background-color: var(--sklearn-color-background);\n",
              "  position: relative;\n",
              "}\n",
              "\n",
              "#sk-container-id-1 div.sk-parallel-item {\n",
              "  display: flex;\n",
              "  flex-direction: column;\n",
              "}\n",
              "\n",
              "#sk-container-id-1 div.sk-parallel-item:first-child::after {\n",
              "  align-self: flex-end;\n",
              "  width: 50%;\n",
              "}\n",
              "\n",
              "#sk-container-id-1 div.sk-parallel-item:last-child::after {\n",
              "  align-self: flex-start;\n",
              "  width: 50%;\n",
              "}\n",
              "\n",
              "#sk-container-id-1 div.sk-parallel-item:only-child::after {\n",
              "  width: 0;\n",
              "}\n",
              "\n",
              "/* Serial-specific style estimator block */\n",
              "\n",
              "#sk-container-id-1 div.sk-serial {\n",
              "  display: flex;\n",
              "  flex-direction: column;\n",
              "  align-items: center;\n",
              "  background-color: var(--sklearn-color-background);\n",
              "  padding-right: 1em;\n",
              "  padding-left: 1em;\n",
              "}\n",
              "\n",
              "\n",
              "/* Toggleable style: style used for estimator/Pipeline/ColumnTransformer box that is\n",
              "clickable and can be expanded/collapsed.\n",
              "- Pipeline and ColumnTransformer use this feature and define the default style\n",
              "- Estimators will overwrite some part of the style using the `sk-estimator` class\n",
              "*/\n",
              "\n",
              "/* Pipeline and ColumnTransformer style (default) */\n",
              "\n",
              "#sk-container-id-1 div.sk-toggleable {\n",
              "  /* Default theme specific background. It is overwritten whether we have a\n",
              "  specific estimator or a Pipeline/ColumnTransformer */\n",
              "  background-color: var(--sklearn-color-background);\n",
              "}\n",
              "\n",
              "/* Toggleable label */\n",
              "#sk-container-id-1 label.sk-toggleable__label {\n",
              "  cursor: pointer;\n",
              "  display: flex;\n",
              "  width: 100%;\n",
              "  margin-bottom: 0;\n",
              "  padding: 0.5em;\n",
              "  box-sizing: border-box;\n",
              "  text-align: center;\n",
              "  align-items: start;\n",
              "  justify-content: space-between;\n",
              "  gap: 0.5em;\n",
              "}\n",
              "\n",
              "#sk-container-id-1 label.sk-toggleable__label .caption {\n",
              "  font-size: 0.6rem;\n",
              "  font-weight: lighter;\n",
              "  color: var(--sklearn-color-text-muted);\n",
              "}\n",
              "\n",
              "#sk-container-id-1 label.sk-toggleable__label-arrow:before {\n",
              "  /* Arrow on the left of the label */\n",
              "  content: \"▸\";\n",
              "  float: left;\n",
              "  margin-right: 0.25em;\n",
              "  color: var(--sklearn-color-icon);\n",
              "}\n",
              "\n",
              "#sk-container-id-1 label.sk-toggleable__label-arrow:hover:before {\n",
              "  color: var(--sklearn-color-text);\n",
              "}\n",
              "\n",
              "/* Toggleable content - dropdown */\n",
              "\n",
              "#sk-container-id-1 div.sk-toggleable__content {\n",
              "  max-height: 0;\n",
              "  max-width: 0;\n",
              "  overflow: hidden;\n",
              "  text-align: left;\n",
              "  /* unfitted */\n",
              "  background-color: var(--sklearn-color-unfitted-level-0);\n",
              "}\n",
              "\n",
              "#sk-container-id-1 div.sk-toggleable__content.fitted {\n",
              "  /* fitted */\n",
              "  background-color: var(--sklearn-color-fitted-level-0);\n",
              "}\n",
              "\n",
              "#sk-container-id-1 div.sk-toggleable__content pre {\n",
              "  margin: 0.2em;\n",
              "  border-radius: 0.25em;\n",
              "  color: var(--sklearn-color-text);\n",
              "  /* unfitted */\n",
              "  background-color: var(--sklearn-color-unfitted-level-0);\n",
              "}\n",
              "\n",
              "#sk-container-id-1 div.sk-toggleable__content.fitted pre {\n",
              "  /* unfitted */\n",
              "  background-color: var(--sklearn-color-fitted-level-0);\n",
              "}\n",
              "\n",
              "#sk-container-id-1 input.sk-toggleable__control:checked~div.sk-toggleable__content {\n",
              "  /* Expand drop-down */\n",
              "  max-height: 200px;\n",
              "  max-width: 100%;\n",
              "  overflow: auto;\n",
              "}\n",
              "\n",
              "#sk-container-id-1 input.sk-toggleable__control:checked~label.sk-toggleable__label-arrow:before {\n",
              "  content: \"▾\";\n",
              "}\n",
              "\n",
              "/* Pipeline/ColumnTransformer-specific style */\n",
              "\n",
              "#sk-container-id-1 div.sk-label input.sk-toggleable__control:checked~label.sk-toggleable__label {\n",
              "  color: var(--sklearn-color-text);\n",
              "  background-color: var(--sklearn-color-unfitted-level-2);\n",
              "}\n",
              "\n",
              "#sk-container-id-1 div.sk-label.fitted input.sk-toggleable__control:checked~label.sk-toggleable__label {\n",
              "  background-color: var(--sklearn-color-fitted-level-2);\n",
              "}\n",
              "\n",
              "/* Estimator-specific style */\n",
              "\n",
              "/* Colorize estimator box */\n",
              "#sk-container-id-1 div.sk-estimator input.sk-toggleable__control:checked~label.sk-toggleable__label {\n",
              "  /* unfitted */\n",
              "  background-color: var(--sklearn-color-unfitted-level-2);\n",
              "}\n",
              "\n",
              "#sk-container-id-1 div.sk-estimator.fitted input.sk-toggleable__control:checked~label.sk-toggleable__label {\n",
              "  /* fitted */\n",
              "  background-color: var(--sklearn-color-fitted-level-2);\n",
              "}\n",
              "\n",
              "#sk-container-id-1 div.sk-label label.sk-toggleable__label,\n",
              "#sk-container-id-1 div.sk-label label {\n",
              "  /* The background is the default theme color */\n",
              "  color: var(--sklearn-color-text-on-default-background);\n",
              "}\n",
              "\n",
              "/* On hover, darken the color of the background */\n",
              "#sk-container-id-1 div.sk-label:hover label.sk-toggleable__label {\n",
              "  color: var(--sklearn-color-text);\n",
              "  background-color: var(--sklearn-color-unfitted-level-2);\n",
              "}\n",
              "\n",
              "/* Label box, darken color on hover, fitted */\n",
              "#sk-container-id-1 div.sk-label.fitted:hover label.sk-toggleable__label.fitted {\n",
              "  color: var(--sklearn-color-text);\n",
              "  background-color: var(--sklearn-color-fitted-level-2);\n",
              "}\n",
              "\n",
              "/* Estimator label */\n",
              "\n",
              "#sk-container-id-1 div.sk-label label {\n",
              "  font-family: monospace;\n",
              "  font-weight: bold;\n",
              "  display: inline-block;\n",
              "  line-height: 1.2em;\n",
              "}\n",
              "\n",
              "#sk-container-id-1 div.sk-label-container {\n",
              "  text-align: center;\n",
              "}\n",
              "\n",
              "/* Estimator-specific */\n",
              "#sk-container-id-1 div.sk-estimator {\n",
              "  font-family: monospace;\n",
              "  border: 1px dotted var(--sklearn-color-border-box);\n",
              "  border-radius: 0.25em;\n",
              "  box-sizing: border-box;\n",
              "  margin-bottom: 0.5em;\n",
              "  /* unfitted */\n",
              "  background-color: var(--sklearn-color-unfitted-level-0);\n",
              "}\n",
              "\n",
              "#sk-container-id-1 div.sk-estimator.fitted {\n",
              "  /* fitted */\n",
              "  background-color: var(--sklearn-color-fitted-level-0);\n",
              "}\n",
              "\n",
              "/* on hover */\n",
              "#sk-container-id-1 div.sk-estimator:hover {\n",
              "  /* unfitted */\n",
              "  background-color: var(--sklearn-color-unfitted-level-2);\n",
              "}\n",
              "\n",
              "#sk-container-id-1 div.sk-estimator.fitted:hover {\n",
              "  /* fitted */\n",
              "  background-color: var(--sklearn-color-fitted-level-2);\n",
              "}\n",
              "\n",
              "/* Specification for estimator info (e.g. \"i\" and \"?\") */\n",
              "\n",
              "/* Common style for \"i\" and \"?\" */\n",
              "\n",
              ".sk-estimator-doc-link,\n",
              "a:link.sk-estimator-doc-link,\n",
              "a:visited.sk-estimator-doc-link {\n",
              "  float: right;\n",
              "  font-size: smaller;\n",
              "  line-height: 1em;\n",
              "  font-family: monospace;\n",
              "  background-color: var(--sklearn-color-background);\n",
              "  border-radius: 1em;\n",
              "  height: 1em;\n",
              "  width: 1em;\n",
              "  text-decoration: none !important;\n",
              "  margin-left: 0.5em;\n",
              "  text-align: center;\n",
              "  /* unfitted */\n",
              "  border: var(--sklearn-color-unfitted-level-1) 1pt solid;\n",
              "  color: var(--sklearn-color-unfitted-level-1);\n",
              "}\n",
              "\n",
              ".sk-estimator-doc-link.fitted,\n",
              "a:link.sk-estimator-doc-link.fitted,\n",
              "a:visited.sk-estimator-doc-link.fitted {\n",
              "  /* fitted */\n",
              "  border: var(--sklearn-color-fitted-level-1) 1pt solid;\n",
              "  color: var(--sklearn-color-fitted-level-1);\n",
              "}\n",
              "\n",
              "/* On hover */\n",
              "div.sk-estimator:hover .sk-estimator-doc-link:hover,\n",
              ".sk-estimator-doc-link:hover,\n",
              "div.sk-label-container:hover .sk-estimator-doc-link:hover,\n",
              ".sk-estimator-doc-link:hover {\n",
              "  /* unfitted */\n",
              "  background-color: var(--sklearn-color-unfitted-level-3);\n",
              "  color: var(--sklearn-color-background);\n",
              "  text-decoration: none;\n",
              "}\n",
              "\n",
              "div.sk-estimator.fitted:hover .sk-estimator-doc-link.fitted:hover,\n",
              ".sk-estimator-doc-link.fitted:hover,\n",
              "div.sk-label-container:hover .sk-estimator-doc-link.fitted:hover,\n",
              ".sk-estimator-doc-link.fitted:hover {\n",
              "  /* fitted */\n",
              "  background-color: var(--sklearn-color-fitted-level-3);\n",
              "  color: var(--sklearn-color-background);\n",
              "  text-decoration: none;\n",
              "}\n",
              "\n",
              "/* Span, style for the box shown on hovering the info icon */\n",
              ".sk-estimator-doc-link span {\n",
              "  display: none;\n",
              "  z-index: 9999;\n",
              "  position: relative;\n",
              "  font-weight: normal;\n",
              "  right: .2ex;\n",
              "  padding: .5ex;\n",
              "  margin: .5ex;\n",
              "  width: min-content;\n",
              "  min-width: 20ex;\n",
              "  max-width: 50ex;\n",
              "  color: var(--sklearn-color-text);\n",
              "  box-shadow: 2pt 2pt 4pt #999;\n",
              "  /* unfitted */\n",
              "  background: var(--sklearn-color-unfitted-level-0);\n",
              "  border: .5pt solid var(--sklearn-color-unfitted-level-3);\n",
              "}\n",
              "\n",
              ".sk-estimator-doc-link.fitted span {\n",
              "  /* fitted */\n",
              "  background: var(--sklearn-color-fitted-level-0);\n",
              "  border: var(--sklearn-color-fitted-level-3);\n",
              "}\n",
              "\n",
              ".sk-estimator-doc-link:hover span {\n",
              "  display: block;\n",
              "}\n",
              "\n",
              "/* \"?\"-specific style due to the `<a>` HTML tag */\n",
              "\n",
              "#sk-container-id-1 a.estimator_doc_link {\n",
              "  float: right;\n",
              "  font-size: 1rem;\n",
              "  line-height: 1em;\n",
              "  font-family: monospace;\n",
              "  background-color: var(--sklearn-color-background);\n",
              "  border-radius: 1rem;\n",
              "  height: 1rem;\n",
              "  width: 1rem;\n",
              "  text-decoration: none;\n",
              "  /* unfitted */\n",
              "  color: var(--sklearn-color-unfitted-level-1);\n",
              "  border: var(--sklearn-color-unfitted-level-1) 1pt solid;\n",
              "}\n",
              "\n",
              "#sk-container-id-1 a.estimator_doc_link.fitted {\n",
              "  /* fitted */\n",
              "  border: var(--sklearn-color-fitted-level-1) 1pt solid;\n",
              "  color: var(--sklearn-color-fitted-level-1);\n",
              "}\n",
              "\n",
              "/* On hover */\n",
              "#sk-container-id-1 a.estimator_doc_link:hover {\n",
              "  /* unfitted */\n",
              "  background-color: var(--sklearn-color-unfitted-level-3);\n",
              "  color: var(--sklearn-color-background);\n",
              "  text-decoration: none;\n",
              "}\n",
              "\n",
              "#sk-container-id-1 a.estimator_doc_link.fitted:hover {\n",
              "  /* fitted */\n",
              "  background-color: var(--sklearn-color-fitted-level-3);\n",
              "}\n",
              "</style><div id=\"sk-container-id-1\" class=\"sk-top-container\"><div class=\"sk-text-repr-fallback\"><pre>QuantileRegressor(alpha=0.01, quantile=0.95)</pre><b>In a Jupyter environment, please rerun this cell to show the HTML representation or trust the notebook. <br />On GitHub, the HTML representation is unable to render, please try loading this page with nbviewer.org.</b></div><div class=\"sk-container\" hidden><div class=\"sk-item\"><div class=\"sk-estimator fitted sk-toggleable\"><input class=\"sk-toggleable__control sk-hidden--visually\" id=\"sk-estimator-id-1\" type=\"checkbox\" checked><label for=\"sk-estimator-id-1\" class=\"sk-toggleable__label fitted sk-toggleable__label-arrow\"><div><div>QuantileRegressor</div></div><div><a class=\"sk-estimator-doc-link fitted\" rel=\"noreferrer\" target=\"_blank\" href=\"https://scikit-learn.org/1.6/modules/generated/sklearn.linear_model.QuantileRegressor.html\">?<span>Documentation for QuantileRegressor</span></a><span class=\"sk-estimator-doc-link fitted\">i<span>Fitted</span></span></div></label><div class=\"sk-toggleable__content fitted\"><pre>QuantileRegressor(alpha=0.01, quantile=0.95)</pre></div> </div></div></div></div>"
            ]
          },
          "metadata": {},
          "execution_count": 35
        }
      ],
      "source": [
        "# Fit quantile regression models for lower and upper quantiles.\n",
        "alpha = .1 # alpha refers to the significance level for the quantile regression here, not to conformal inference!\n",
        "qr_lower = QuantileRegressor(quantile=alpha/2, alpha=0.01)\n",
        "qr_lower.fit(X_train, y_train)\n",
        "\n",
        "qr_upper = QuantileRegressor(quantile= 1-alpha/2, alpha=0.01)\n",
        "qr_upper.fit(X_train, y_train)"
      ]
    },
    {
      "cell_type": "markdown",
      "source": [
        "Compute the predictions on calibration and validation data sets."
      ],
      "metadata": {
        "id": "hx3IckchfN1Y"
      }
    },
    {
      "cell_type": "code",
      "source": [],
      "metadata": {
        "id": "OXi6MVlAe7Zx"
      },
      "execution_count": null,
      "outputs": []
    },
    {
      "cell_type": "code",
      "execution_count": 36,
      "metadata": {
        "id": "jxuEqsC77byF"
      },
      "outputs": [],
      "source": [
        "# Compute the predictions on calibration and validation data sets for both quantiles.\n",
        "# Make sure to store them for future reference.\n",
        "y_callower = qr_lower.predict(X_cal)\n",
        "y_vallower = qr_lower.predict(X_val)\n",
        "\n",
        "y_calupper = qr_upper.predict(X_cal)\n",
        "y_valupper = qr_upper.predict(X_val)"
      ]
    },
    {
      "cell_type": "markdown",
      "source": [
        "Compute the threshold as the quantile of the calibration scores. Then obtain the prediction sets for the validation data."
      ],
      "metadata": {
        "id": "DaULMMJlfQKm"
      }
    },
    {
      "cell_type": "code",
      "execution_count": 38,
      "metadata": {
        "id": "wbgMs4WlzdhM"
      },
      "outputs": [],
      "source": [
        "# Compute the thresholds. (check the conformality equation for quantile regression)\n",
        "# WHY use Quantile regression in conformal inference: to be precise on the confidence intervals\n",
        "# to get guaranteed coverage\n",
        "# (conditional coverage)\n",
        "# Compute the threshold q_hat based on scores and alphatilde().\n",
        "cutoff_q_lower = continuous_score_cutoff(y_cal, y_callower)\n",
        "cutoff_q_upper = continuous_score_cutoff(y_cal, y_calupper)\n"
      ]
    },
    {
      "cell_type": "code",
      "source": [
        "# Then use the thresholds to obtain the prediction sets for the validation data.\n",
        "# Compute the threshold q_hat based on scores and alphatilde().\n",
        "min-lower, max+upper\n",
        "\n",
        "prediction_sets_val\n"
      ],
      "metadata": {
        "id": "EdiRb0L98wOP"
      },
      "execution_count": null,
      "outputs": []
    },
    {
      "cell_type": "code",
      "metadata": {
        "id": "9dlj7q2BzdhN"
      },
      "source": [
        "# Print the shape and the first few entries of the prediction sets to check your work.\n",
        "print(\"Shape of prediction sets:\", prediction_sets_val.shape)\n",
        "print(\"First 5 entries of prediction sets:\\n\", prediction_sets_val[:5])\n"
      ],
      "execution_count": null,
      "outputs": []
    },
    {
      "cell_type": "markdown",
      "source": [
        "Compare coverage and interval widths with the ridge regression approach from the\n",
        "previous problem. Analyze whether quantile regression provides more adaptive intervals and discuss the trade-offs between the two approaches."
      ],
      "metadata": {
        "id": "E8KEC69o3aEn"
      }
    },
    {
      "cell_type": "code",
      "source": [
        "# Average interval width\n",
        "\n",
        "# Coverage"
      ],
      "metadata": {
        "id": "W03KOMna4vQy"
      },
      "execution_count": null,
      "outputs": []
    },
    {
      "cell_type": "markdown",
      "source": [
        "Plot prediction intervals for a subset of validation points and compare them to the true values."
      ],
      "metadata": {
        "id": "WYSFXM4jzvBs"
      }
    },
    {
      "cell_type": "code",
      "metadata": {
        "id": "GcHYGg4Ap8mH"
      },
      "source": [
        "# Create your plot here."
      ],
      "execution_count": null,
      "outputs": []
    },
    {
      "cell_type": "markdown",
      "source": [
        "Plot the distribution of interval width over the validation set. What do you notice? Compare your results to the simple regression."
      ],
      "metadata": {
        "id": "p5LBcCokz8la"
      }
    },
    {
      "cell_type": "code",
      "metadata": {
        "id": "kADw8eN-21xf"
      },
      "source": [
        "# Create your plot here."
      ],
      "execution_count": null,
      "outputs": []
    },
    {
      "cell_type": "markdown",
      "metadata": {
        "id": "RCPWaHZi7byB"
      },
      "source": [
        "## Discrete classification"
      ]
    },
    {
      "cell_type": "markdown",
      "source": [
        "Load the `wine` data from the skikit-learn package and split it into features $X$ and labels $Y$.\n",
        "\n",
        "For a documentation of the data, see: https://scikit-learn.org/stable/datasets/toy_dataset.html#wine-recognition-dataset."
      ],
      "metadata": {
        "id": "UoxX0AeUUr0D"
      }
    },
    {
      "cell_type": "code",
      "execution_count": 10,
      "metadata": {
        "id": "fdpr_8yW0lz2",
        "colab": {
          "base_uri": "https://localhost:8080/",
          "height": 215
        },
        "outputId": "01899607-63a8-464f-952c-ef4e0ed99a30"
      },
      "outputs": [
        {
          "output_type": "error",
          "ename": "NameError",
          "evalue": "name 'load_wine' is not defined",
          "traceback": [
            "\u001b[0;31m---------------------------------------------------------------------------\u001b[0m",
            "\u001b[0;31mNameError\u001b[0m                                 Traceback (most recent call last)",
            "\u001b[0;32m/tmp/ipython-input-3173372230.py\u001b[0m in \u001b[0;36m<cell line: 0>\u001b[0;34m()\u001b[0m\n\u001b[1;32m      1\u001b[0m \u001b[0;31m# Load the data and separate the data set into features X and outcomes y.\u001b[0m\u001b[0;34m\u001b[0m\u001b[0;34m\u001b[0m\u001b[0m\n\u001b[0;32m----> 2\u001b[0;31m \u001b[0mdata2\u001b[0m \u001b[0;34m=\u001b[0m \u001b[0mload_wine\u001b[0m\u001b[0;34m(\u001b[0m\u001b[0;34m)\u001b[0m\u001b[0;34m\u001b[0m\u001b[0;34m\u001b[0m\u001b[0m\n\u001b[0m\u001b[1;32m      3\u001b[0m \u001b[0mX\u001b[0m \u001b[0;34m=\u001b[0m \u001b[0mdata2\u001b[0m\u001b[0;34m[\u001b[0m\u001b[0;34m\"data\"\u001b[0m\u001b[0;34m]\u001b[0m\u001b[0;34m\u001b[0m\u001b[0;34m\u001b[0m\u001b[0m\n\u001b[1;32m      4\u001b[0m \u001b[0mX\u001b[0m \u001b[0;34m=\u001b[0m \u001b[0mStandardScaler\u001b[0m\u001b[0;34m(\u001b[0m\u001b[0;34m)\u001b[0m\u001b[0;34m.\u001b[0m\u001b[0mfit_transform\u001b[0m\u001b[0;34m(\u001b[0m\u001b[0mX\u001b[0m\u001b[0;34m)\u001b[0m\u001b[0;34m\u001b[0m\u001b[0;34m\u001b[0m\u001b[0m\n\u001b[1;32m      5\u001b[0m \u001b[0my\u001b[0m \u001b[0;34m=\u001b[0m \u001b[0mdata2\u001b[0m\u001b[0;34m[\u001b[0m\u001b[0;34m\"target\"\u001b[0m\u001b[0;34m]\u001b[0m\u001b[0;34m\u001b[0m\u001b[0;34m\u001b[0m\u001b[0m\n",
            "\u001b[0;31mNameError\u001b[0m: name 'load_wine' is not defined"
          ]
        }
      ],
      "source": [
        "# Load the data and separate the data set into features X and outcomes y.\n",
        "data2 = load_wine()\n",
        "X = data2[\"data\"]\n",
        "X = StandardScaler().fit_transform(X)\n",
        "y = data2[\"target\"]"
      ]
    },
    {
      "cell_type": "code",
      "source": [
        "# Split into train and test set.\n",
        "X_train, X_test, y_train, y_test = train_test_split(X, y, test_size=0.4, random_state=42)\n",
        "# Split the test set into calibration and validation.\n",
        "X_cal, X_val, y_cal, y_val = train_test_split(X_test, y_test, test_size=0.5, random_state=42)"
      ],
      "metadata": {
        "id": "IJ103VwB0lz4"
      },
      "execution_count": null,
      "outputs": []
    },
    {
      "cell_type": "markdown",
      "source": [
        "### Logistic regression"
      ],
      "metadata": {
        "id": "av1b34J0TGvG"
      }
    },
    {
      "cell_type": "markdown",
      "metadata": {
        "id": "K4uf7AW-7byC"
      },
      "source": [
        "Fit a penalized logistic regression model using scikit-learn’s `LogisticRegression` with L2 regularization. Use cross-validation on the training set to find the optimal penalty parameter $\\lambda$  that minimizes classification error.\n",
        "\n",
        "This will give the scores for _conformal inference_."
      ]
    },
    {
      "cell_type": "code",
      "execution_count": null,
      "metadata": {
        "id": "rdzV2OBG0065"
      },
      "outputs": [],
      "source": [
        "# Define the parameter range.\n",
        "param_range = np.logspace(-4, 2, 20)\n",
        "\n",
        "# Run a grid search with cross-validation.\n",
        "logistic_cv = GridSearchCV(LogisticRegression(), {'C': param_range}, cv=10)\n",
        "with warnings.catch_warnings(): # Suppress output of warnings\n",
        "    warnings.simplefilter(\"ignore\")\n",
        "    logistic_cv.fit(X_train, y_train)\n",
        "\n",
        "# Select the best model.\n",
        "bestmodel = logistic_cv.best_estimator_"
      ]
    },
    {
      "cell_type": "markdown",
      "source": [
        "Compute the predictions on calibration and validation data sets."
      ],
      "metadata": {
        "id": "xEhVekBf0066"
      }
    },
    {
      "cell_type": "code",
      "execution_count": null,
      "metadata": {
        "id": "RKpcgUdM0067"
      },
      "outputs": [],
      "source": [
        "# Compute the predictions on calibration and validation data sets.\n",
        "# Make sure to store them for future reference.\n",
        "y_calproba = bestmodel.predict_proba(X_cal) # proba returns the probability estimates for each class rather than just the predicted class label\n",
        "y_valproba = bestmodel.predict_proba(X_val)"
      ]
    },
    {
      "cell_type": "markdown",
      "source": [
        "Compute the threshold as the quantile of the calibration scores. Then obtain the prediction sets for the validation data."
      ],
      "metadata": {
        "id": "R2wB1SPUZ4U9"
      }
    },
    {
      "cell_type": "code",
      "execution_count": 11,
      "metadata": {
        "id": "_AxaiPS81EMV"
      },
      "outputs": [],
      "source": [
        "# Compute the thresholds.\n",
        "# Then use the thresholds to obtain the prediction sets for the validation data."
      ]
    },
    {
      "cell_type": "code",
      "metadata": {
        "id": "bG3QKblw1EMW"
      },
      "source": [
        "# Print the shape and the first few entries of the prediction sets to check your work."
      ],
      "execution_count": 12,
      "outputs": []
    },
    {
      "cell_type": "markdown",
      "source": [
        "Evaluate the method on the validation data set by computing:\n",
        "- average set size (mean\n",
        "number of labels in the prediction sets)\n",
        "- coverage (fraction\n",
        "of test points where the true label is in the prediction set)\n",
        "- conditional coverage (coverage rates\n",
        "for each true class): Is the coverage at least 90% for each type of wine?"
      ],
      "metadata": {
        "id": "zjiNY7dFsK40"
      }
    },
    {
      "cell_type": "code",
      "source": [
        "# Average set size\n",
        "\n",
        "# Coverage: is y_val[i] contained in confidencesets_classification[i]?\n",
        "\n",
        "# Conditional coverage"
      ],
      "metadata": {
        "id": "yOJK7PFwsRnq"
      },
      "execution_count": 13,
      "outputs": []
    },
    {
      "cell_type": "markdown",
      "source": [
        "### k-Nearest Neighbours"
      ],
      "metadata": {
        "id": "O6Em63TuS4_s"
      }
    },
    {
      "cell_type": "markdown",
      "source": [
        "Repeat the conformal inference procedure from the previous problem, but replace the\n",
        "penalized logistic regression with **k-nearest neighbors classification**. Use cross-validation on the training set to select the optimal number of neighbors $k$. Use the same conformity score definition as in the previous problem. Compare the coverage and efficiency (average prediction set size) with the logistic regression results, and discuss any differences in performance between the two methods."
      ],
      "metadata": {
        "id": "sQiVbfmj0oDP"
      }
    },
    {
      "cell_type": "code",
      "execution_count": 14,
      "metadata": {
        "id": "0VinvJQf1bJE",
        "colab": {
          "base_uri": "https://localhost:8080/",
          "height": 232
        },
        "outputId": "a7f9506f-79b8-4bfd-fd64-a8bb9fb9bb9e"
      },
      "outputs": [
        {
          "output_type": "error",
          "ename": "NameError",
          "evalue": "name 'np' is not defined",
          "traceback": [
            "\u001b[0;31m---------------------------------------------------------------------------\u001b[0m",
            "\u001b[0;31mNameError\u001b[0m                                 Traceback (most recent call last)",
            "\u001b[0;32m/tmp/ipython-input-1208373138.py\u001b[0m in \u001b[0;36m<cell line: 0>\u001b[0;34m()\u001b[0m\n\u001b[1;32m      1\u001b[0m \u001b[0;31m# Define the parameter range.\u001b[0m\u001b[0;34m\u001b[0m\u001b[0;34m\u001b[0m\u001b[0m\n\u001b[0;32m----> 2\u001b[0;31m \u001b[0mk_range\u001b[0m \u001b[0;34m=\u001b[0m \u001b[0mnp\u001b[0m\u001b[0;34m.\u001b[0m\u001b[0marange\u001b[0m\u001b[0;34m(\u001b[0m\u001b[0;36m1\u001b[0m\u001b[0;34m,\u001b[0m \u001b[0;36m50\u001b[0m\u001b[0;34m)\u001b[0m\u001b[0;34m\u001b[0m\u001b[0;34m\u001b[0m\u001b[0m\n\u001b[0m\u001b[1;32m      3\u001b[0m \u001b[0;34m\u001b[0m\u001b[0m\n\u001b[1;32m      4\u001b[0m \u001b[0;31m# Run a grid search with cross-validation.\u001b[0m\u001b[0;34m\u001b[0m\u001b[0;34m\u001b[0m\u001b[0m\n\u001b[1;32m      5\u001b[0m \u001b[0mkNN_cv\u001b[0m \u001b[0;34m=\u001b[0m \u001b[0mGridSearchCV\u001b[0m\u001b[0;34m(\u001b[0m\u001b[0mKNeighborsClassifier\u001b[0m\u001b[0;34m(\u001b[0m\u001b[0;34m)\u001b[0m\u001b[0;34m,\u001b[0m \u001b[0;34m{\u001b[0m\u001b[0;34m'n_neighbors'\u001b[0m\u001b[0;34m:\u001b[0m \u001b[0mk_range\u001b[0m\u001b[0;34m}\u001b[0m\u001b[0;34m,\u001b[0m \u001b[0mcv\u001b[0m\u001b[0;34m=\u001b[0m\u001b[0;36m10\u001b[0m\u001b[0;34m,\u001b[0m \u001b[0mscoring\u001b[0m\u001b[0;34m=\u001b[0m\u001b[0;34m\"accuracy\"\u001b[0m\u001b[0;34m)\u001b[0m\u001b[0;34m\u001b[0m\u001b[0;34m\u001b[0m\u001b[0m\n",
            "\u001b[0;31mNameError\u001b[0m: name 'np' is not defined"
          ]
        }
      ],
      "source": [
        "# Define the parameter range.\n",
        "k_range = np.arange(1, 50)\n",
        "\n",
        "# Run a grid search with cross-validation.\n",
        "kNN_cv = GridSearchCV(KNeighborsClassifier(), {'n_neighbors': k_range}, cv=10, scoring=\"accuracy\")\n",
        "with warnings.catch_warnings(): # Suppress output of warnings\n",
        "    warnings.simplefilter(\"ignore\")\n",
        "    kNN_cv.fit(X_train, y_train)\n",
        "print(kNN_cv.best_params_)\n",
        "\n",
        "# Select the best model.\n",
        "bestkNN = kNN_cv.best_estimator_"
      ]
    },
    {
      "cell_type": "markdown",
      "source": [
        "Compute the predictions on calibration and validation data sets."
      ],
      "metadata": {
        "id": "LxEtYJq91bJF"
      }
    },
    {
      "cell_type": "code",
      "execution_count": null,
      "metadata": {
        "id": "wiOA3jw_1bJG"
      },
      "outputs": [],
      "source": [
        "# Compute the predictions on calibration and validation data sets.\n",
        "# Make sure to store them for future reference."
      ]
    },
    {
      "cell_type": "markdown",
      "source": [
        "Compute the threshold as the quantile of the calibration scores. Then obtain the prediction sets for the validation data."
      ],
      "metadata": {
        "id": "YM7Jx_4y1bJG"
      }
    },
    {
      "cell_type": "code",
      "execution_count": null,
      "metadata": {
        "id": "LhDMJDpE1bJG"
      },
      "outputs": [],
      "source": [
        "# Compute the thresholds.\n",
        "# Then use the thresholds to obtain the prediction sets for the validation data."
      ]
    },
    {
      "cell_type": "code",
      "metadata": {
        "id": "1ZjRdU4V1bJH"
      },
      "source": [
        "# Print the shape and the first few entries of the prediction sets to check your work."
      ],
      "execution_count": null,
      "outputs": []
    },
    {
      "cell_type": "markdown",
      "source": [
        "Evaluate the method on the validation data set by computing:\n",
        "- average set size (mean\n",
        "number of labels in the prediction sets)\n",
        "- coverage (fraction\n",
        "of test points where the true label is in the prediction set)\n",
        "- conditional coverage (coverage rates\n",
        "for each true class): Is the coverage at least 90% for each type of wine?"
      ],
      "metadata": {
        "id": "1iRymW7p1bJH"
      }
    },
    {
      "cell_type": "code",
      "source": [
        "# Average set size\n",
        "\n",
        "# Coverage: is y_val[i] contained in confidencesets_classification[i]?\n",
        "\n",
        "# Conditional coverage"
      ],
      "metadata": {
        "id": "51yyZyzQ1bJH"
      },
      "execution_count": null,
      "outputs": []
    },
    {
      "cell_type": "markdown",
      "source": [
        "Compare your results to the Logistic Regression model. What do you notice?"
      ],
      "metadata": {
        "id": "pCkwtrS61iAW"
      }
    }
  ],
  "metadata": {
    "kernelspec": {
      "display_name": "Python 3 (ipykernel)",
      "language": "python",
      "name": "python3"
    },
    "language_info": {
      "codemirror_mode": {
        "name": "ipython",
        "version": 3
      },
      "file_extension": ".py",
      "mimetype": "text/x-python",
      "name": "python",
      "nbconvert_exporter": "python",
      "pygments_lexer": "ipython3",
      "version": "3.12.2"
    },
    "colab": {
      "provenance": [],
      "toc_visible": true,
      "include_colab_link": true
    }
  },
  "nbformat": 4,
  "nbformat_minor": 0
}